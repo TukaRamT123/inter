{
 "cells": [
  {
   "cell_type": "code",
   "execution_count": 1,
   "id": "ac96ede1",
   "metadata": {},
   "outputs": [
    {
     "name": "stdout",
     "output_type": "stream",
     "text": [
      "Requirement already satisfied: keras in c:\\users\\administrator\\appdata\\roaming\\python\\python39\\site-packages (2.13.1)\n",
      "Note: you may need to restart the kernel to use updated packages.\n"
     ]
    }
   ],
   "source": [
    " pip install keras --user"
   ]
  },
  {
   "cell_type": "markdown",
   "id": "f5badf46",
   "metadata": {},
   "source": [
    "## 1"
   ]
  },
  {
   "cell_type": "code",
   "execution_count": 2,
   "id": "f0bc27f6",
   "metadata": {
    "scrolled": false
   },
   "outputs": [],
   "source": [
    "from sklearn.datasets import make_regression\n",
    "X,Y = make_regression(n_samples=1000,\n",
    "                n_features=10,\n",
    "                n_informative=6,\n",
    "                noise=10,random_state=42)"
   ]
  },
  {
   "cell_type": "markdown",
   "id": "4465de6c",
   "metadata": {},
   "source": [
    "## 2"
   ]
  },
  {
   "cell_type": "code",
   "execution_count": 3,
   "id": "7ab22219",
   "metadata": {},
   "outputs": [
    {
     "data": {
      "text/html": [
       "<div>\n",
       "<style scoped>\n",
       "    .dataframe tbody tr th:only-of-type {\n",
       "        vertical-align: middle;\n",
       "    }\n",
       "\n",
       "    .dataframe tbody tr th {\n",
       "        vertical-align: top;\n",
       "    }\n",
       "\n",
       "    .dataframe thead th {\n",
       "        text-align: right;\n",
       "    }\n",
       "</style>\n",
       "<table border=\"1\" class=\"dataframe\">\n",
       "  <thead>\n",
       "    <tr style=\"text-align: right;\">\n",
       "      <th></th>\n",
       "      <th>x1</th>\n",
       "      <th>x2</th>\n",
       "      <th>x3</th>\n",
       "      <th>x4</th>\n",
       "      <th>x5</th>\n",
       "      <th>x6</th>\n",
       "      <th>x7</th>\n",
       "      <th>x8</th>\n",
       "      <th>x9</th>\n",
       "      <th>x10</th>\n",
       "    </tr>\n",
       "  </thead>\n",
       "  <tbody>\n",
       "    <tr>\n",
       "      <th>0</th>\n",
       "      <td>1.127909</td>\n",
       "      <td>0.494706</td>\n",
       "      <td>0.044359</td>\n",
       "      <td>-1.745707</td>\n",
       "      <td>-0.336553</td>\n",
       "      <td>-0.409308</td>\n",
       "      <td>-1.127496</td>\n",
       "      <td>0.383435</td>\n",
       "      <td>1.005925</td>\n",
       "      <td>0.154494</td>\n",
       "    </tr>\n",
       "    <tr>\n",
       "      <th>1</th>\n",
       "      <td>-0.496651</td>\n",
       "      <td>1.269613</td>\n",
       "      <td>-1.277437</td>\n",
       "      <td>1.156582</td>\n",
       "      <td>0.406094</td>\n",
       "      <td>1.357620</td>\n",
       "      <td>0.418515</td>\n",
       "      <td>-1.245151</td>\n",
       "      <td>-0.143582</td>\n",
       "      <td>0.923045</td>\n",
       "    </tr>\n",
       "    <tr>\n",
       "      <th>2</th>\n",
       "      <td>0.668655</td>\n",
       "      <td>-0.730956</td>\n",
       "      <td>-0.535335</td>\n",
       "      <td>0.358454</td>\n",
       "      <td>1.295872</td>\n",
       "      <td>0.685508</td>\n",
       "      <td>-0.175564</td>\n",
       "      <td>0.757922</td>\n",
       "      <td>1.848609</td>\n",
       "      <td>0.098068</td>\n",
       "    </tr>\n",
       "    <tr>\n",
       "      <th>3</th>\n",
       "      <td>2.121631</td>\n",
       "      <td>0.729773</td>\n",
       "      <td>0.314445</td>\n",
       "      <td>-0.358958</td>\n",
       "      <td>-2.025040</td>\n",
       "      <td>0.043031</td>\n",
       "      <td>-2.065303</td>\n",
       "      <td>-0.931002</td>\n",
       "      <td>0.686858</td>\n",
       "      <td>-0.283152</td>\n",
       "    </tr>\n",
       "    <tr>\n",
       "      <th>4</th>\n",
       "      <td>-0.123729</td>\n",
       "      <td>-0.856498</td>\n",
       "      <td>-0.993863</td>\n",
       "      <td>0.420192</td>\n",
       "      <td>-1.184031</td>\n",
       "      <td>-1.264498</td>\n",
       "      <td>-0.382817</td>\n",
       "      <td>0.097670</td>\n",
       "      <td>-1.793106</td>\n",
       "      <td>-0.397680</td>\n",
       "    </tr>\n",
       "  </tbody>\n",
       "</table>\n",
       "</div>"
      ],
      "text/plain": [
       "         x1        x2        x3        x4        x5        x6        x7  \\\n",
       "0  1.127909  0.494706  0.044359 -1.745707 -0.336553 -0.409308 -1.127496   \n",
       "1 -0.496651  1.269613 -1.277437  1.156582  0.406094  1.357620  0.418515   \n",
       "2  0.668655 -0.730956 -0.535335  0.358454  1.295872  0.685508 -0.175564   \n",
       "3  2.121631  0.729773  0.314445 -0.358958 -2.025040  0.043031 -2.065303   \n",
       "4 -0.123729 -0.856498 -0.993863  0.420192 -1.184031 -1.264498 -0.382817   \n",
       "\n",
       "         x8        x9       x10  \n",
       "0  0.383435  1.005925  0.154494  \n",
       "1 -1.245151 -0.143582  0.923045  \n",
       "2  0.757922  1.848609  0.098068  \n",
       "3 -0.931002  0.686858 -0.283152  \n",
       "4  0.097670 -1.793106 -0.397680  "
      ]
     },
     "execution_count": 3,
     "metadata": {},
     "output_type": "execute_result"
    }
   ],
   "source": [
    "import pandas as pd\n",
    "X = pd.DataFrame(X)\n",
    "X.columns = [\"x1\",\"x2\",\"x3\",\"x4\",\"x5\",\"x6\",\"x7\",\"x8\",\"x9\",\"x10\"]\n",
    "X.head()"
   ]
  },
  {
   "cell_type": "code",
   "execution_count": 4,
   "id": "d23b715f",
   "metadata": {},
   "outputs": [
    {
     "data": {
      "text/html": [
       "<div>\n",
       "<style scoped>\n",
       "    .dataframe tbody tr th:only-of-type {\n",
       "        vertical-align: middle;\n",
       "    }\n",
       "\n",
       "    .dataframe tbody tr th {\n",
       "        vertical-align: top;\n",
       "    }\n",
       "\n",
       "    .dataframe thead th {\n",
       "        text-align: right;\n",
       "    }\n",
       "</style>\n",
       "<table border=\"1\" class=\"dataframe\">\n",
       "  <thead>\n",
       "    <tr style=\"text-align: right;\">\n",
       "      <th></th>\n",
       "      <th>target</th>\n",
       "    </tr>\n",
       "  </thead>\n",
       "  <tbody>\n",
       "    <tr>\n",
       "      <th>0</th>\n",
       "      <td>-26.258227</td>\n",
       "    </tr>\n",
       "    <tr>\n",
       "      <th>1</th>\n",
       "      <td>40.763331</td>\n",
       "    </tr>\n",
       "    <tr>\n",
       "      <th>2</th>\n",
       "      <td>35.184904</td>\n",
       "    </tr>\n",
       "    <tr>\n",
       "      <th>3</th>\n",
       "      <td>9.185398</td>\n",
       "    </tr>\n",
       "    <tr>\n",
       "      <th>4</th>\n",
       "      <td>-117.149738</td>\n",
       "    </tr>\n",
       "  </tbody>\n",
       "</table>\n",
       "</div>"
      ],
      "text/plain": [
       "       target\n",
       "0  -26.258227\n",
       "1   40.763331\n",
       "2   35.184904\n",
       "3    9.185398\n",
       "4 -117.149738"
      ]
     },
     "execution_count": 4,
     "metadata": {},
     "output_type": "execute_result"
    }
   ],
   "source": [
    "Y = pd.DataFrame(Y)\n",
    "Y.columns = [\"target\"]\n",
    "Y.head()"
   ]
  },
  {
   "cell_type": "markdown",
   "id": "79e8f866",
   "metadata": {},
   "source": [
    "## 3"
   ]
  },
  {
   "cell_type": "code",
   "execution_count": 5,
   "id": "57ef7462",
   "metadata": {},
   "outputs": [
    {
     "data": {
      "text/plain": [
       "x1     0\n",
       "x2     0\n",
       "x3     0\n",
       "x4     0\n",
       "x5     0\n",
       "x6     0\n",
       "x7     0\n",
       "x8     0\n",
       "x9     0\n",
       "x10    0\n",
       "dtype: int64"
      ]
     },
     "execution_count": 5,
     "metadata": {},
     "output_type": "execute_result"
    }
   ],
   "source": [
    "X.isna().sum()"
   ]
  },
  {
   "cell_type": "code",
   "execution_count": 6,
   "id": "db66399b",
   "metadata": {},
   "outputs": [
    {
     "data": {
      "text/plain": [
       "target    0\n",
       "dtype: int64"
      ]
     },
     "execution_count": 6,
     "metadata": {},
     "output_type": "execute_result"
    }
   ],
   "source": [
    "Y.isna().sum()"
   ]
  },
  {
   "cell_type": "markdown",
   "id": "47ee772f",
   "metadata": {},
   "source": [
    "## 4"
   ]
  },
  {
   "cell_type": "code",
   "execution_count": 7,
   "id": "2da76fee",
   "metadata": {},
   "outputs": [],
   "source": [
    "from sklearn.model_selection import train_test_split\n",
    "xtrain,xtest,ytrain,ytest = train_test_split(X,Y,test_size=0.2,random_state=25)"
   ]
  },
  {
   "cell_type": "code",
   "execution_count": 8,
   "id": "3c75d92d",
   "metadata": {},
   "outputs": [
    {
     "data": {
      "text/html": [
       "<div>\n",
       "<style scoped>\n",
       "    .dataframe tbody tr th:only-of-type {\n",
       "        vertical-align: middle;\n",
       "    }\n",
       "\n",
       "    .dataframe tbody tr th {\n",
       "        vertical-align: top;\n",
       "    }\n",
       "\n",
       "    .dataframe thead th {\n",
       "        text-align: right;\n",
       "    }\n",
       "</style>\n",
       "<table border=\"1\" class=\"dataframe\">\n",
       "  <thead>\n",
       "    <tr style=\"text-align: right;\">\n",
       "      <th></th>\n",
       "      <th>x1</th>\n",
       "      <th>x2</th>\n",
       "      <th>x3</th>\n",
       "      <th>x4</th>\n",
       "      <th>x5</th>\n",
       "      <th>x6</th>\n",
       "      <th>x7</th>\n",
       "      <th>x8</th>\n",
       "      <th>x9</th>\n",
       "      <th>x10</th>\n",
       "    </tr>\n",
       "  </thead>\n",
       "  <tbody>\n",
       "    <tr>\n",
       "      <th>0</th>\n",
       "      <td>1.127909</td>\n",
       "      <td>0.494706</td>\n",
       "      <td>0.044359</td>\n",
       "      <td>-1.745707</td>\n",
       "      <td>-0.336553</td>\n",
       "      <td>-0.409308</td>\n",
       "      <td>-1.127496</td>\n",
       "      <td>0.383435</td>\n",
       "      <td>1.005925</td>\n",
       "      <td>0.154494</td>\n",
       "    </tr>\n",
       "    <tr>\n",
       "      <th>1</th>\n",
       "      <td>-0.496651</td>\n",
       "      <td>1.269613</td>\n",
       "      <td>-1.277437</td>\n",
       "      <td>1.156582</td>\n",
       "      <td>0.406094</td>\n",
       "      <td>1.357620</td>\n",
       "      <td>0.418515</td>\n",
       "      <td>-1.245151</td>\n",
       "      <td>-0.143582</td>\n",
       "      <td>0.923045</td>\n",
       "    </tr>\n",
       "    <tr>\n",
       "      <th>2</th>\n",
       "      <td>0.668655</td>\n",
       "      <td>-0.730956</td>\n",
       "      <td>-0.535335</td>\n",
       "      <td>0.358454</td>\n",
       "      <td>1.295872</td>\n",
       "      <td>0.685508</td>\n",
       "      <td>-0.175564</td>\n",
       "      <td>0.757922</td>\n",
       "      <td>1.848609</td>\n",
       "      <td>0.098068</td>\n",
       "    </tr>\n",
       "    <tr>\n",
       "      <th>3</th>\n",
       "      <td>2.121631</td>\n",
       "      <td>0.729773</td>\n",
       "      <td>0.314445</td>\n",
       "      <td>-0.358958</td>\n",
       "      <td>-2.025040</td>\n",
       "      <td>0.043031</td>\n",
       "      <td>-2.065303</td>\n",
       "      <td>-0.931002</td>\n",
       "      <td>0.686858</td>\n",
       "      <td>-0.283152</td>\n",
       "    </tr>\n",
       "    <tr>\n",
       "      <th>4</th>\n",
       "      <td>-0.123729</td>\n",
       "      <td>-0.856498</td>\n",
       "      <td>-0.993863</td>\n",
       "      <td>0.420192</td>\n",
       "      <td>-1.184031</td>\n",
       "      <td>-1.264498</td>\n",
       "      <td>-0.382817</td>\n",
       "      <td>0.097670</td>\n",
       "      <td>-1.793106</td>\n",
       "      <td>-0.397680</td>\n",
       "    </tr>\n",
       "  </tbody>\n",
       "</table>\n",
       "</div>"
      ],
      "text/plain": [
       "         x1        x2        x3        x4        x5        x6        x7  \\\n",
       "0  1.127909  0.494706  0.044359 -1.745707 -0.336553 -0.409308 -1.127496   \n",
       "1 -0.496651  1.269613 -1.277437  1.156582  0.406094  1.357620  0.418515   \n",
       "2  0.668655 -0.730956 -0.535335  0.358454  1.295872  0.685508 -0.175564   \n",
       "3  2.121631  0.729773  0.314445 -0.358958 -2.025040  0.043031 -2.065303   \n",
       "4 -0.123729 -0.856498 -0.993863  0.420192 -1.184031 -1.264498 -0.382817   \n",
       "\n",
       "         x8        x9       x10  \n",
       "0  0.383435  1.005925  0.154494  \n",
       "1 -1.245151 -0.143582  0.923045  \n",
       "2  0.757922  1.848609  0.098068  \n",
       "3 -0.931002  0.686858 -0.283152  \n",
       "4  0.097670 -1.793106 -0.397680  "
      ]
     },
     "execution_count": 8,
     "metadata": {},
     "output_type": "execute_result"
    }
   ],
   "source": [
    "X.head()"
   ]
  },
  {
   "cell_type": "markdown",
   "id": "07ca5ab8",
   "metadata": {},
   "source": [
    "## 5"
   ]
  },
  {
   "cell_type": "code",
   "execution_count": 9,
   "id": "2030b881",
   "metadata": {},
   "outputs": [],
   "source": [
    " # X columns has only continuous columns so, Preprocessing of contiuous columns"
   ]
  },
  {
   "cell_type": "code",
   "execution_count": 10,
   "id": "7445a239",
   "metadata": {},
   "outputs": [],
   "source": [
    "from sklearn.preprocessing import StandardScaler\n",
    "ss = StandardScaler()\n",
    "xtrain = pd.DataFrame(ss.fit_transform(xtrain),columns=xtrain.columns)\n",
    "xtest = pd.DataFrame(ss.fit_transform(xtest),columns=xtest.columns)"
   ]
  },
  {
   "cell_type": "code",
   "execution_count": 11,
   "id": "ad9af395",
   "metadata": {},
   "outputs": [
    {
     "data": {
      "text/html": [
       "<div>\n",
       "<style scoped>\n",
       "    .dataframe tbody tr th:only-of-type {\n",
       "        vertical-align: middle;\n",
       "    }\n",
       "\n",
       "    .dataframe tbody tr th {\n",
       "        vertical-align: top;\n",
       "    }\n",
       "\n",
       "    .dataframe thead th {\n",
       "        text-align: right;\n",
       "    }\n",
       "</style>\n",
       "<table border=\"1\" class=\"dataframe\">\n",
       "  <thead>\n",
       "    <tr style=\"text-align: right;\">\n",
       "      <th></th>\n",
       "      <th>x1</th>\n",
       "      <th>x2</th>\n",
       "      <th>x3</th>\n",
       "      <th>x4</th>\n",
       "      <th>x5</th>\n",
       "      <th>x6</th>\n",
       "      <th>x7</th>\n",
       "      <th>x8</th>\n",
       "      <th>x9</th>\n",
       "      <th>x10</th>\n",
       "    </tr>\n",
       "  </thead>\n",
       "  <tbody>\n",
       "    <tr>\n",
       "      <th>0</th>\n",
       "      <td>0.301151</td>\n",
       "      <td>0.063294</td>\n",
       "      <td>-0.021172</td>\n",
       "      <td>-0.228569</td>\n",
       "      <td>1.942247</td>\n",
       "      <td>-0.337944</td>\n",
       "      <td>0.940063</td>\n",
       "      <td>-0.587386</td>\n",
       "      <td>-2.005553</td>\n",
       "      <td>-0.765923</td>\n",
       "    </tr>\n",
       "    <tr>\n",
       "      <th>1</th>\n",
       "      <td>0.190968</td>\n",
       "      <td>1.196024</td>\n",
       "      <td>2.062613</td>\n",
       "      <td>-1.499253</td>\n",
       "      <td>0.579252</td>\n",
       "      <td>-0.770175</td>\n",
       "      <td>-0.424001</td>\n",
       "      <td>1.047970</td>\n",
       "      <td>0.203532</td>\n",
       "      <td>1.594548</td>\n",
       "    </tr>\n",
       "    <tr>\n",
       "      <th>2</th>\n",
       "      <td>-0.485714</td>\n",
       "      <td>0.493323</td>\n",
       "      <td>0.797727</td>\n",
       "      <td>-0.970912</td>\n",
       "      <td>-1.923731</td>\n",
       "      <td>1.053699</td>\n",
       "      <td>0.386083</td>\n",
       "      <td>0.563022</td>\n",
       "      <td>2.670675</td>\n",
       "      <td>0.007477</td>\n",
       "    </tr>\n",
       "    <tr>\n",
       "      <th>3</th>\n",
       "      <td>-0.199311</td>\n",
       "      <td>0.892389</td>\n",
       "      <td>0.823333</td>\n",
       "      <td>-0.633989</td>\n",
       "      <td>0.681549</td>\n",
       "      <td>-0.711567</td>\n",
       "      <td>-1.182456</td>\n",
       "      <td>-2.768972</td>\n",
       "      <td>-0.884396</td>\n",
       "      <td>0.432836</td>\n",
       "    </tr>\n",
       "    <tr>\n",
       "      <th>4</th>\n",
       "      <td>-1.092778</td>\n",
       "      <td>0.062773</td>\n",
       "      <td>1.186031</td>\n",
       "      <td>-0.006818</td>\n",
       "      <td>0.665493</td>\n",
       "      <td>0.681092</td>\n",
       "      <td>0.942641</td>\n",
       "      <td>-0.236594</td>\n",
       "      <td>-0.399095</td>\n",
       "      <td>-1.102488</td>\n",
       "    </tr>\n",
       "  </tbody>\n",
       "</table>\n",
       "</div>"
      ],
      "text/plain": [
       "         x1        x2        x3        x4        x5        x6        x7  \\\n",
       "0  0.301151  0.063294 -0.021172 -0.228569  1.942247 -0.337944  0.940063   \n",
       "1  0.190968  1.196024  2.062613 -1.499253  0.579252 -0.770175 -0.424001   \n",
       "2 -0.485714  0.493323  0.797727 -0.970912 -1.923731  1.053699  0.386083   \n",
       "3 -0.199311  0.892389  0.823333 -0.633989  0.681549 -0.711567 -1.182456   \n",
       "4 -1.092778  0.062773  1.186031 -0.006818  0.665493  0.681092  0.942641   \n",
       "\n",
       "         x8        x9       x10  \n",
       "0 -0.587386 -2.005553 -0.765923  \n",
       "1  1.047970  0.203532  1.594548  \n",
       "2  0.563022  2.670675  0.007477  \n",
       "3 -2.768972 -0.884396  0.432836  \n",
       "4 -0.236594 -0.399095 -1.102488  "
      ]
     },
     "execution_count": 11,
     "metadata": {},
     "output_type": "execute_result"
    }
   ],
   "source": [
    "xtrain.head()"
   ]
  },
  {
   "cell_type": "code",
   "execution_count": 12,
   "id": "d57d1fb0",
   "metadata": {},
   "outputs": [
    {
     "data": {
      "text/html": [
       "<div>\n",
       "<style scoped>\n",
       "    .dataframe tbody tr th:only-of-type {\n",
       "        vertical-align: middle;\n",
       "    }\n",
       "\n",
       "    .dataframe tbody tr th {\n",
       "        vertical-align: top;\n",
       "    }\n",
       "\n",
       "    .dataframe thead th {\n",
       "        text-align: right;\n",
       "    }\n",
       "</style>\n",
       "<table border=\"1\" class=\"dataframe\">\n",
       "  <thead>\n",
       "    <tr style=\"text-align: right;\">\n",
       "      <th></th>\n",
       "      <th>x1</th>\n",
       "      <th>x2</th>\n",
       "      <th>x3</th>\n",
       "      <th>x4</th>\n",
       "      <th>x5</th>\n",
       "      <th>x6</th>\n",
       "      <th>x7</th>\n",
       "      <th>x8</th>\n",
       "      <th>x9</th>\n",
       "      <th>x10</th>\n",
       "    </tr>\n",
       "  </thead>\n",
       "  <tbody>\n",
       "    <tr>\n",
       "      <th>0</th>\n",
       "      <td>-0.410340</td>\n",
       "      <td>-0.381121</td>\n",
       "      <td>2.575868</td>\n",
       "      <td>-0.624718</td>\n",
       "      <td>1.234383</td>\n",
       "      <td>0.589884</td>\n",
       "      <td>0.574344</td>\n",
       "      <td>1.053072</td>\n",
       "      <td>1.899133</td>\n",
       "      <td>0.542752</td>\n",
       "    </tr>\n",
       "    <tr>\n",
       "      <th>1</th>\n",
       "      <td>-1.831218</td>\n",
       "      <td>0.286785</td>\n",
       "      <td>1.104538</td>\n",
       "      <td>0.583778</td>\n",
       "      <td>0.182438</td>\n",
       "      <td>0.334448</td>\n",
       "      <td>0.598530</td>\n",
       "      <td>1.503112</td>\n",
       "      <td>1.374833</td>\n",
       "      <td>1.216932</td>\n",
       "    </tr>\n",
       "    <tr>\n",
       "      <th>2</th>\n",
       "      <td>1.843115</td>\n",
       "      <td>-0.040681</td>\n",
       "      <td>-0.185748</td>\n",
       "      <td>1.512950</td>\n",
       "      <td>-0.587682</td>\n",
       "      <td>1.267185</td>\n",
       "      <td>2.099863</td>\n",
       "      <td>0.349121</td>\n",
       "      <td>-0.279194</td>\n",
       "      <td>-0.138590</td>\n",
       "    </tr>\n",
       "    <tr>\n",
       "      <th>3</th>\n",
       "      <td>-0.156887</td>\n",
       "      <td>0.471257</td>\n",
       "      <td>0.575615</td>\n",
       "      <td>1.545649</td>\n",
       "      <td>0.299520</td>\n",
       "      <td>-1.558874</td>\n",
       "      <td>0.368834</td>\n",
       "      <td>0.357975</td>\n",
       "      <td>-2.434131</td>\n",
       "      <td>-0.500772</td>\n",
       "    </tr>\n",
       "    <tr>\n",
       "      <th>4</th>\n",
       "      <td>-1.232713</td>\n",
       "      <td>-0.879252</td>\n",
       "      <td>0.490576</td>\n",
       "      <td>0.212979</td>\n",
       "      <td>-1.228174</td>\n",
       "      <td>0.767225</td>\n",
       "      <td>1.172023</td>\n",
       "      <td>0.554536</td>\n",
       "      <td>0.277838</td>\n",
       "      <td>0.426920</td>\n",
       "    </tr>\n",
       "  </tbody>\n",
       "</table>\n",
       "</div>"
      ],
      "text/plain": [
       "         x1        x2        x3        x4        x5        x6        x7  \\\n",
       "0 -0.410340 -0.381121  2.575868 -0.624718  1.234383  0.589884  0.574344   \n",
       "1 -1.831218  0.286785  1.104538  0.583778  0.182438  0.334448  0.598530   \n",
       "2  1.843115 -0.040681 -0.185748  1.512950 -0.587682  1.267185  2.099863   \n",
       "3 -0.156887  0.471257  0.575615  1.545649  0.299520 -1.558874  0.368834   \n",
       "4 -1.232713 -0.879252  0.490576  0.212979 -1.228174  0.767225  1.172023   \n",
       "\n",
       "         x8        x9       x10  \n",
       "0  1.053072  1.899133  0.542752  \n",
       "1  1.503112  1.374833  1.216932  \n",
       "2  0.349121 -0.279194 -0.138590  \n",
       "3  0.357975 -2.434131 -0.500772  \n",
       "4  0.554536  0.277838  0.426920  "
      ]
     },
     "execution_count": 12,
     "metadata": {},
     "output_type": "execute_result"
    }
   ],
   "source": [
    "xtest.head()"
   ]
  },
  {
   "cell_type": "code",
   "execution_count": 13,
   "id": "4137c03a",
   "metadata": {},
   "outputs": [
    {
     "data": {
      "text/plain": [
       "(800, 10)"
      ]
     },
     "execution_count": 13,
     "metadata": {},
     "output_type": "execute_result"
    }
   ],
   "source": [
    "xtrain.shape"
   ]
  },
  {
   "cell_type": "code",
   "execution_count": 14,
   "id": "1417e776",
   "metadata": {},
   "outputs": [
    {
     "data": {
      "text/plain": [
       "(200, 10)"
      ]
     },
     "execution_count": 14,
     "metadata": {},
     "output_type": "execute_result"
    }
   ],
   "source": [
    "xtest.shape"
   ]
  },
  {
   "cell_type": "code",
   "execution_count": 15,
   "id": "e63785f3",
   "metadata": {},
   "outputs": [
    {
     "data": {
      "text/plain": [
       "(800, 1)"
      ]
     },
     "execution_count": 15,
     "metadata": {},
     "output_type": "execute_result"
    }
   ],
   "source": [
    "ytrain.shape"
   ]
  },
  {
   "cell_type": "code",
   "execution_count": 16,
   "id": "763f367d",
   "metadata": {},
   "outputs": [
    {
     "data": {
      "text/plain": [
       "(200, 1)"
      ]
     },
     "execution_count": 16,
     "metadata": {},
     "output_type": "execute_result"
    }
   ],
   "source": [
    "ytest.shape"
   ]
  },
  {
   "cell_type": "markdown",
   "id": "81d97d92",
   "metadata": {},
   "source": [
    "## 6"
   ]
  },
  {
   "cell_type": "markdown",
   "id": "cda53109",
   "metadata": {},
   "source": [
    "## Start building Neural Network"
   ]
  },
  {
   "cell_type": "code",
   "execution_count": 17,
   "id": "5aa4a884",
   "metadata": {},
   "outputs": [],
   "source": [
    "from keras.models import Sequential\n",
    "model = Sequential()\n",
    "from keras.layers import Dense"
   ]
  },
  {
   "cell_type": "code",
   "execution_count": 18,
   "id": "7dd3295e",
   "metadata": {},
   "outputs": [],
   "source": [
    "model =  Sequential()\n",
    "model.add(Dense(64,input_dim =xtrain.shape[1],activation=\"relu\"))\n",
    "model.add(Dense(32,activation=\"relu\"))\n",
    "model.add(Dense(1,activation=\"linear\"))"
   ]
  },
  {
   "cell_type": "code",
   "execution_count": 19,
   "id": "44dbdaa3",
   "metadata": {},
   "outputs": [
    {
     "name": "stdout",
     "output_type": "stream",
     "text": [
      "Model: \"sequential_1\"\n",
      "_________________________________________________________________\n",
      " Layer (type)                Output Shape              Param #   \n",
      "=================================================================\n",
      " dense (Dense)               (None, 64)                704       \n",
      "                                                                 \n",
      " dense_1 (Dense)             (None, 32)                2080      \n",
      "                                                                 \n",
      " dense_2 (Dense)             (None, 1)                 33        \n",
      "                                                                 \n",
      "=================================================================\n",
      "Total params: 2817 (11.00 KB)\n",
      "Trainable params: 2817 (11.00 KB)\n",
      "Non-trainable params: 0 (0.00 Byte)\n",
      "_________________________________________________________________\n"
     ]
    }
   ],
   "source": [
    "model.summary()"
   ]
  },
  {
   "cell_type": "markdown",
   "id": "a925a678",
   "metadata": {},
   "source": [
    "## 7"
   ]
  },
  {
   "cell_type": "code",
   "execution_count": 20,
   "id": "2b67964d",
   "metadata": {},
   "outputs": [],
   "source": [
    "model.compile(loss=\"mae\",optimizer = \"adam\")"
   ]
  },
  {
   "cell_type": "code",
   "execution_count": 21,
   "id": "301aa5c0",
   "metadata": {
    "scrolled": false
   },
   "outputs": [
    {
     "name": "stdout",
     "output_type": "stream",
     "text": [
      "Epoch 1/100\n",
      "20/20 [==============================] - 1s 11ms/step - loss: 54.5704 - val_loss: 61.9819\n",
      "Epoch 2/100\n",
      "20/20 [==============================] - 0s 4ms/step - loss: 54.1834 - val_loss: 61.4863\n",
      "Epoch 3/100\n",
      "20/20 [==============================] - 0s 9ms/step - loss: 53.6351 - val_loss: 60.7038\n",
      "Epoch 4/100\n",
      "20/20 [==============================] - 0s 7ms/step - loss: 52.7924 - val_loss: 59.4935\n",
      "Epoch 5/100\n",
      "20/20 [==============================] - 0s 5ms/step - loss: 51.4662 - val_loss: 57.6504\n",
      "Epoch 6/100\n",
      "20/20 [==============================] - 0s 7ms/step - loss: 49.3791 - val_loss: 54.8194\n",
      "Epoch 7/100\n",
      "20/20 [==============================] - 0s 5ms/step - loss: 46.2615 - val_loss: 50.5691\n",
      "Epoch 8/100\n",
      "20/20 [==============================] - 0s 5ms/step - loss: 41.6906 - val_loss: 44.5823\n",
      "Epoch 9/100\n",
      "20/20 [==============================] - 0s 5ms/step - loss: 35.5247 - val_loss: 36.7201\n",
      "Epoch 10/100\n",
      "20/20 [==============================] - 0s 5ms/step - loss: 27.5165 - val_loss: 27.0000\n",
      "Epoch 11/100\n",
      "20/20 [==============================] - 0s 7ms/step - loss: 18.8529 - val_loss: 17.5626\n",
      "Epoch 12/100\n",
      "20/20 [==============================] - 0s 7ms/step - loss: 12.7508 - val_loss: 12.1677\n",
      "Epoch 13/100\n",
      "20/20 [==============================] - 0s 5ms/step - loss: 10.4400 - val_loss: 11.1964\n",
      "Epoch 14/100\n",
      "20/20 [==============================] - 0s 4ms/step - loss: 9.8444 - val_loss: 10.8241\n",
      "Epoch 15/100\n",
      "20/20 [==============================] - 0s 4ms/step - loss: 9.4188 - val_loss: 10.2177\n",
      "Epoch 16/100\n",
      "20/20 [==============================] - 0s 6ms/step - loss: 9.0175 - val_loss: 10.0039\n",
      "Epoch 17/100\n",
      "20/20 [==============================] - 0s 4ms/step - loss: 8.7723 - val_loss: 9.6549\n",
      "Epoch 18/100\n",
      "20/20 [==============================] - 0s 4ms/step - loss: 8.5669 - val_loss: 9.3803\n",
      "Epoch 19/100\n",
      "20/20 [==============================] - 0s 6ms/step - loss: 8.3646 - val_loss: 9.1088\n",
      "Epoch 20/100\n",
      "20/20 [==============================] - 0s 4ms/step - loss: 8.2680 - val_loss: 9.2459\n",
      "Epoch 21/100\n",
      "20/20 [==============================] - 0s 8ms/step - loss: 8.1469 - val_loss: 9.0142\n",
      "Epoch 22/100\n",
      "20/20 [==============================] - 0s 7ms/step - loss: 8.0302 - val_loss: 8.9687\n",
      "Epoch 23/100\n",
      "20/20 [==============================] - 0s 4ms/step - loss: 7.9758 - val_loss: 8.8408\n",
      "Epoch 24/100\n",
      "20/20 [==============================] - 0s 5ms/step - loss: 7.8864 - val_loss: 8.8473\n",
      "Epoch 25/100\n",
      "20/20 [==============================] - 0s 4ms/step - loss: 7.8291 - val_loss: 8.6718\n",
      "Epoch 26/100\n",
      "20/20 [==============================] - 0s 4ms/step - loss: 7.7822 - val_loss: 8.7336\n",
      "Epoch 27/100\n",
      "20/20 [==============================] - 0s 4ms/step - loss: 7.6996 - val_loss: 8.7789\n",
      "Epoch 28/100\n",
      "20/20 [==============================] - 0s 4ms/step - loss: 7.7201 - val_loss: 8.5349\n",
      "Epoch 29/100\n",
      "20/20 [==============================] - 0s 4ms/step - loss: 7.6256 - val_loss: 8.6829\n",
      "Epoch 30/100\n",
      "20/20 [==============================] - 0s 4ms/step - loss: 7.5928 - val_loss: 8.6885\n",
      "Epoch 31/100\n",
      "20/20 [==============================] - 0s 4ms/step - loss: 7.5204 - val_loss: 8.5356\n",
      "Epoch 32/100\n",
      "20/20 [==============================] - 0s 4ms/step - loss: 7.5928 - val_loss: 8.6414\n",
      "Epoch 33/100\n",
      "20/20 [==============================] - 0s 4ms/step - loss: 7.4770 - val_loss: 8.5500\n",
      "Epoch 34/100\n",
      "20/20 [==============================] - 0s 4ms/step - loss: 7.4113 - val_loss: 8.6286\n",
      "Epoch 35/100\n",
      "20/20 [==============================] - 0s 4ms/step - loss: 7.4050 - val_loss: 8.4967\n",
      "Epoch 36/100\n",
      "20/20 [==============================] - 0s 4ms/step - loss: 7.3554 - val_loss: 8.6190\n",
      "Epoch 37/100\n",
      "20/20 [==============================] - 0s 4ms/step - loss: 7.3329 - val_loss: 8.4935\n",
      "Epoch 38/100\n",
      "20/20 [==============================] - 0s 5ms/step - loss: 7.2957 - val_loss: 8.5612\n",
      "Epoch 39/100\n",
      "20/20 [==============================] - 0s 4ms/step - loss: 7.2528 - val_loss: 8.4982\n",
      "Epoch 40/100\n",
      "20/20 [==============================] - 0s 4ms/step - loss: 7.2510 - val_loss: 8.5953\n",
      "Epoch 41/100\n",
      "20/20 [==============================] - 0s 4ms/step - loss: 7.1983 - val_loss: 8.5479\n",
      "Epoch 42/100\n",
      "20/20 [==============================] - 0s 4ms/step - loss: 7.1385 - val_loss: 8.4876\n",
      "Epoch 43/100\n",
      "20/20 [==============================] - 0s 4ms/step - loss: 7.1789 - val_loss: 8.5520\n",
      "Epoch 44/100\n",
      "20/20 [==============================] - 0s 4ms/step - loss: 7.0964 - val_loss: 8.4493\n",
      "Epoch 45/100\n",
      "20/20 [==============================] - 0s 4ms/step - loss: 7.0861 - val_loss: 8.5334\n",
      "Epoch 46/100\n",
      "20/20 [==============================] - 0s 4ms/step - loss: 7.0244 - val_loss: 8.6202\n",
      "Epoch 47/100\n",
      "20/20 [==============================] - 0s 3ms/step - loss: 7.0212 - val_loss: 8.5776\n",
      "Epoch 48/100\n",
      "20/20 [==============================] - 0s 3ms/step - loss: 7.0291 - val_loss: 8.5498\n",
      "Epoch 49/100\n",
      "20/20 [==============================] - 0s 3ms/step - loss: 7.0086 - val_loss: 8.6534\n",
      "Epoch 50/100\n",
      "20/20 [==============================] - 0s 3ms/step - loss: 6.9541 - val_loss: 8.5821\n",
      "Epoch 51/100\n",
      "20/20 [==============================] - 0s 3ms/step - loss: 6.9085 - val_loss: 8.5545\n",
      "Epoch 52/100\n",
      "20/20 [==============================] - 0s 3ms/step - loss: 6.9267 - val_loss: 8.6967\n",
      "Epoch 53/100\n",
      "20/20 [==============================] - 0s 3ms/step - loss: 6.9390 - val_loss: 8.5403\n",
      "Epoch 54/100\n",
      "20/20 [==============================] - 0s 3ms/step - loss: 6.9153 - val_loss: 8.6197\n",
      "Epoch 55/100\n",
      "20/20 [==============================] - 0s 4ms/step - loss: 6.8872 - val_loss: 8.5679\n",
      "Epoch 56/100\n",
      "20/20 [==============================] - 0s 3ms/step - loss: 6.7881 - val_loss: 8.5554\n",
      "Epoch 57/100\n",
      "20/20 [==============================] - 0s 3ms/step - loss: 6.8291 - val_loss: 8.6161\n",
      "Epoch 58/100\n",
      "20/20 [==============================] - 0s 4ms/step - loss: 6.7754 - val_loss: 8.6165\n",
      "Epoch 59/100\n",
      "20/20 [==============================] - 0s 5ms/step - loss: 6.7915 - val_loss: 8.4488\n",
      "Epoch 60/100\n",
      "20/20 [==============================] - 0s 6ms/step - loss: 6.7493 - val_loss: 8.6062\n",
      "Epoch 61/100\n",
      "20/20 [==============================] - 0s 5ms/step - loss: 6.6882 - val_loss: 8.5274\n",
      "Epoch 62/100\n",
      "20/20 [==============================] - 0s 4ms/step - loss: 6.6795 - val_loss: 8.5779\n",
      "Epoch 63/100\n",
      "20/20 [==============================] - 0s 5ms/step - loss: 6.6490 - val_loss: 8.5654\n",
      "Epoch 64/100\n",
      "20/20 [==============================] - 0s 5ms/step - loss: 6.6330 - val_loss: 8.5643\n",
      "Epoch 65/100\n",
      "20/20 [==============================] - 0s 7ms/step - loss: 6.6505 - val_loss: 8.6140\n",
      "Epoch 66/100\n",
      "20/20 [==============================] - 0s 9ms/step - loss: 6.5982 - val_loss: 8.5409\n",
      "Epoch 67/100\n",
      "20/20 [==============================] - 0s 7ms/step - loss: 6.5636 - val_loss: 8.5898\n",
      "Epoch 68/100\n",
      "20/20 [==============================] - 0s 9ms/step - loss: 6.5335 - val_loss: 8.4922\n",
      "Epoch 69/100\n",
      "20/20 [==============================] - 0s 8ms/step - loss: 6.5301 - val_loss: 8.6627\n",
      "Epoch 70/100\n",
      "20/20 [==============================] - 0s 5ms/step - loss: 6.6016 - val_loss: 8.5979\n",
      "Epoch 71/100\n",
      "20/20 [==============================] - 0s 9ms/step - loss: 6.5966 - val_loss: 8.5728\n",
      "Epoch 72/100\n",
      "20/20 [==============================] - 0s 5ms/step - loss: 6.5100 - val_loss: 8.5098\n",
      "Epoch 73/100\n",
      "20/20 [==============================] - 0s 7ms/step - loss: 6.5241 - val_loss: 8.6063\n",
      "Epoch 74/100\n",
      "20/20 [==============================] - 0s 5ms/step - loss: 6.4744 - val_loss: 8.5843\n",
      "Epoch 75/100\n",
      "20/20 [==============================] - 0s 8ms/step - loss: 6.4536 - val_loss: 8.5868\n",
      "Epoch 76/100\n",
      "20/20 [==============================] - 0s 7ms/step - loss: 6.4733 - val_loss: 8.6325\n",
      "Epoch 77/100\n",
      "20/20 [==============================] - 0s 5ms/step - loss: 6.4325 - val_loss: 8.5594\n",
      "Epoch 78/100\n",
      "20/20 [==============================] - 0s 8ms/step - loss: 6.4048 - val_loss: 8.5964\n",
      "Epoch 79/100\n",
      "20/20 [==============================] - 0s 7ms/step - loss: 6.4267 - val_loss: 8.6472\n",
      "Epoch 80/100\n",
      "20/20 [==============================] - 0s 4ms/step - loss: 6.3836 - val_loss: 8.6997\n",
      "Epoch 81/100\n",
      "20/20 [==============================] - 0s 4ms/step - loss: 6.3981 - val_loss: 8.4650\n",
      "Epoch 82/100\n",
      "20/20 [==============================] - 0s 3ms/step - loss: 6.3521 - val_loss: 8.6479\n",
      "Epoch 83/100\n",
      "20/20 [==============================] - 0s 8ms/step - loss: 6.3525 - val_loss: 8.6297\n",
      "Epoch 84/100\n",
      "20/20 [==============================] - 0s 5ms/step - loss: 6.3654 - val_loss: 8.6065\n",
      "Epoch 85/100\n",
      "20/20 [==============================] - 0s 7ms/step - loss: 6.2925 - val_loss: 8.6035\n",
      "Epoch 86/100\n",
      "20/20 [==============================] - 0s 5ms/step - loss: 6.3248 - val_loss: 8.5200\n",
      "Epoch 87/100\n",
      "20/20 [==============================] - 0s 5ms/step - loss: 6.3081 - val_loss: 8.6028\n",
      "Epoch 88/100\n",
      "20/20 [==============================] - 0s 8ms/step - loss: 6.2627 - val_loss: 8.6260\n",
      "Epoch 89/100\n",
      "20/20 [==============================] - 0s 5ms/step - loss: 6.2350 - val_loss: 8.6625\n",
      "Epoch 90/100\n",
      "20/20 [==============================] - 0s 9ms/step - loss: 6.2718 - val_loss: 8.6578\n",
      "Epoch 91/100\n",
      "20/20 [==============================] - 0s 8ms/step - loss: 6.2459 - val_loss: 8.5605\n",
      "Epoch 92/100\n",
      "20/20 [==============================] - 0s 5ms/step - loss: 6.2685 - val_loss: 8.8140\n",
      "Epoch 93/100\n",
      "20/20 [==============================] - 0s 5ms/step - loss: 6.2390 - val_loss: 8.5236\n",
      "Epoch 94/100\n",
      "20/20 [==============================] - 0s 4ms/step - loss: 6.2406 - val_loss: 8.6864\n",
      "Epoch 95/100\n",
      "20/20 [==============================] - 0s 7ms/step - loss: 6.2383 - val_loss: 8.5867\n",
      "Epoch 96/100\n",
      "20/20 [==============================] - 0s 5ms/step - loss: 6.2187 - val_loss: 8.6499\n",
      "Epoch 97/100\n",
      "20/20 [==============================] - 0s 3ms/step - loss: 6.2069 - val_loss: 8.5017\n",
      "Epoch 98/100\n",
      "20/20 [==============================] - 0s 3ms/step - loss: 6.1723 - val_loss: 8.6614\n",
      "Epoch 99/100\n",
      "20/20 [==============================] - 0s 3ms/step - loss: 6.2434 - val_loss: 8.5340\n",
      "Epoch 100/100\n",
      "20/20 [==============================] - 0s 3ms/step - loss: 6.2191 - val_loss: 8.6378\n"
     ]
    }
   ],
   "source": [
    "hist = model.fit(xtrain,ytrain,validation_split=0.2,epochs=100)"
   ]
  },
  {
   "cell_type": "markdown",
   "id": "912e8068",
   "metadata": {},
   "source": [
    "## 8"
   ]
  },
  {
   "cell_type": "code",
   "execution_count": 22,
   "id": "252504eb",
   "metadata": {},
   "outputs": [
    {
     "data": {
      "image/png": "[encoded data removed]",
      "text/plain": [
       "<Figure size 1000x800 with 1 Axes>"
      ]
     },
     "metadata": {},
     "output_type": "display_data"
    }
   ],
   "source": [
    "import matplotlib.pyplot as plt\n",
    "plt.figure(figsize=(10,8))\n",
    "plt.plot(hist.history[\"loss\"],c=\"red\")\n",
    "plt.plot(hist.history[\"val_loss\"],c=\"blue\")\n",
    "plt.xlabel(\"Epochs\")\n",
    "plt.ylabel(\"loss function or mae\")\n",
    "plt.title(\"learning curve\")\n",
    "plt.show()"
   ]
  },
  {
   "cell_type": "markdown",
   "id": "f3ded71b",
   "metadata": {},
   "source": [
    "## 9"
   ]
  },
  {
   "cell_type": "code",
   "execution_count": 23,
   "id": "54386e0c",
   "metadata": {},
   "outputs": [
    {
     "name": "stdout",
     "output_type": "stream",
     "text": [
      "25/25 [==============================] - 0s 1ms/step\n",
      "7/7 [==============================] - 0s 2ms/step\n"
     ]
    }
   ],
   "source": [
    "tr_pred = model.predict(xtrain)\n",
    "ts_pred = model.predict(xtest)"
   ]
  },
  {
   "cell_type": "code",
   "execution_count": 25,
   "id": "67766ab2",
   "metadata": {},
   "outputs": [
    {
     "data": {
      "text/plain": [
       "array([[-49.428017],\n",
       "       [ 29.220667],\n",
       "       [ 95.85954 ],\n",
       "       [-51.337753],\n",
       "       [ 77.01687 ]], dtype=float32)"
      ]
     },
     "execution_count": 25,
     "metadata": {},
     "output_type": "execute_result"
    }
   ],
   "source": [
    "tr_pred[0:5]"
   ]
  },
  {
   "cell_type": "code",
   "execution_count": 26,
   "id": "5a1017b5",
   "metadata": {},
   "outputs": [
    {
     "data": {
      "text/plain": [
       "array([[129.25645 ],\n",
       "       [ 83.251076],\n",
       "       [ 87.70534 ],\n",
       "       [-67.32746 ],\n",
       "       [ 60.330566]], dtype=float32)"
      ]
     },
     "execution_count": 26,
     "metadata": {},
     "output_type": "execute_result"
    }
   ],
   "source": [
    "ts_pred[0:5]"
   ]
  },
  {
   "cell_type": "code",
   "execution_count": 28,
   "id": "f4436c22",
   "metadata": {},
   "outputs": [
    {
     "name": "stdout",
     "output_type": "stream",
     "text": [
      "25/25 [==============================] - 0s 1ms/step - loss: 6.5882\n"
     ]
    },
    {
     "data": {
      "text/plain": [
       "6.588247299194336"
      ]
     },
     "execution_count": 28,
     "metadata": {},
     "output_type": "execute_result"
    }
   ],
   "source": [
    "model.evaluate(xtrain,ytrain)"
   ]
  },
  {
   "cell_type": "markdown",
   "id": "6276778f",
   "metadata": {},
   "source": [
    "## 10"
   ]
  },
  {
   "cell_type": "code",
   "execution_count": 29,
   "id": "a474483a",
   "metadata": {},
   "outputs": [
    {
     "name": "stdout",
     "output_type": "stream",
     "text": [
      "training_mae: 6.59\n",
      "training_mse: 79.99\n"
     ]
    }
   ],
   "source": [
    "from sklearn.metrics import mean_absolute_error,mean_squared_error\n",
    "tr_mae =mean_absolute_error(ytrain,tr_pred)\n",
    "tr_mse =mean_squared_error(ytrain,tr_pred)\n",
    "print(\"training_mae:\",round(tr_mae,2))\n",
    "print(\"training_mse:\" ,round(tr_mse,2))"
   ]
  },
  {
   "cell_type": "code",
   "execution_count": 30,
   "id": "882dabe5",
   "metadata": {},
   "outputs": [
    {
     "name": "stdout",
     "output_type": "stream",
     "text": [
      "testing_mae: 10.34\n",
      "testing_mse: 169.82\n"
     ]
    }
   ],
   "source": [
    "ts_mae =mean_absolute_error(ytest,ts_pred)\n",
    "ts_mse =mean_squared_error(ytest,ts_pred)\n",
    "print(\"testing_mae:\",round(ts_mae,2))\n",
    "print(\"testing_mse:\" ,round(ts_mse,2))"
   ]
  },
  {
   "cell_type": "code",
   "execution_count": null,
   "id": "30ddd225",
   "metadata": {},
   "outputs": [],
   "source": []
  }
 ],
 "metadata": {
  "kernelspec": {
   "display_name": "Python 3 (ipykernel)",
   "language": "python",
   "name": "python3"
  },
  "language_info": {
   "codemirror_mode": {
    "name": "ipython",
    "version": 3
   },
   "file_extension": ".py",
   "mimetype": "text/x-python",
   "name": "python",
   "nbconvert_exporter": "python",
   "pygments_lexer": "ipython3",
   "version": "3.9.13"
  }
 },
 "nbformat": 4,
 "nbformat_minor": 5
}
