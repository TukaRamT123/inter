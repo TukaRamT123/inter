{
 "cells": [
  {
   "cell_type": "markdown",
   "id": "262af18d",
   "metadata": {},
   "source": [
    "# Polymorphism"
   ]
  },
  {
   "cell_type": "markdown",
   "id": "ab75d322",
   "metadata": {},
   "source": [
    "# Len function Polymorphism"
   ]
  },
  {
   "cell_type": "code",
   "execution_count": 1,
   "id": "a8e415fc",
   "metadata": {},
   "outputs": [
    {
     "data": {
      "text/plain": [
       "7"
      ]
     },
     "execution_count": 1,
     "metadata": {},
     "output_type": "execute_result"
    }
   ],
   "source": [
    "name = 'Tukaram'\n",
    "len(name)"
   ]
  },
  {
   "cell_type": "code",
   "execution_count": 2,
   "id": "8a641316",
   "metadata": {},
   "outputs": [
    {
     "data": {
      "text/plain": [
       "9"
      ]
     },
     "execution_count": 2,
     "metadata": {},
     "output_type": "execute_result"
    }
   ],
   "source": [
    "a = ['a',12.3,'Example',True,False,'b',25,34.5,46.7]\n",
    "len(a)"
   ]
  },
  {
   "cell_type": "code",
   "execution_count": 3,
   "id": "8941b63f",
   "metadata": {},
   "outputs": [
    {
     "data": {
      "text/plain": [
       "5"
      ]
     },
     "execution_count": 3,
     "metadata": {},
     "output_type": "execute_result"
    }
   ],
   "source": [
    "dct = {'id':101,\n",
    "       'fname':'Utkarsh',\n",
    "       'lname':'Gaikwad',\n",
    "       'Dept':'Engg.',\n",
    "       'Sal':10000}\n",
    "len(dct)"
   ]
  },
  {
   "cell_type": "code",
   "execution_count": 4,
   "id": "cb7b33f8",
   "metadata": {},
   "outputs": [
    {
     "data": {
      "text/html": [
       "<div>\n",
       "<style scoped>\n",
       "    .dataframe tbody tr th:only-of-type {\n",
       "        vertical-align: middle;\n",
       "    }\n",
       "\n",
       "    .dataframe tbody tr th {\n",
       "        vertical-align: top;\n",
       "    }\n",
       "\n",
       "    .dataframe thead th {\n",
       "        text-align: right;\n",
       "    }\n",
       "</style>\n",
       "<table border=\"1\" class=\"dataframe\">\n",
       "  <thead>\n",
       "    <tr style=\"text-align: right;\">\n",
       "      <th></th>\n",
       "      <th>RND</th>\n",
       "      <th>ADMIN</th>\n",
       "      <th>MKT</th>\n",
       "      <th>STATE</th>\n",
       "      <th>PROFIT</th>\n",
       "    </tr>\n",
       "  </thead>\n",
       "  <tbody>\n",
       "    <tr>\n",
       "      <th>0</th>\n",
       "      <td>165349.20</td>\n",
       "      <td>136897.80</td>\n",
       "      <td>471784.10</td>\n",
       "      <td>New York</td>\n",
       "      <td>192261.83</td>\n",
       "    </tr>\n",
       "    <tr>\n",
       "      <th>1</th>\n",
       "      <td>162597.70</td>\n",
       "      <td>151377.59</td>\n",
       "      <td>443898.53</td>\n",
       "      <td>California</td>\n",
       "      <td>191792.06</td>\n",
       "    </tr>\n",
       "    <tr>\n",
       "      <th>2</th>\n",
       "      <td>153441.51</td>\n",
       "      <td>101145.55</td>\n",
       "      <td>407934.54</td>\n",
       "      <td>Florida</td>\n",
       "      <td>191050.39</td>\n",
       "    </tr>\n",
       "    <tr>\n",
       "      <th>3</th>\n",
       "      <td>144372.41</td>\n",
       "      <td>118671.85</td>\n",
       "      <td>383199.62</td>\n",
       "      <td>New York</td>\n",
       "      <td>182901.99</td>\n",
       "    </tr>\n",
       "    <tr>\n",
       "      <th>4</th>\n",
       "      <td>142107.34</td>\n",
       "      <td>91391.77</td>\n",
       "      <td>366168.42</td>\n",
       "      <td>Florida</td>\n",
       "      <td>166187.94</td>\n",
       "    </tr>\n",
       "  </tbody>\n",
       "</table>\n",
       "</div>"
      ],
      "text/plain": [
       "         RND      ADMIN        MKT       STATE     PROFIT\n",
       "0  165349.20  136897.80  471784.10    New York  192261.83\n",
       "1  162597.70  151377.59  443898.53  California  191792.06\n",
       "2  153441.51  101145.55  407934.54     Florida  191050.39\n",
       "3  144372.41  118671.85  383199.62    New York  182901.99\n",
       "4  142107.34   91391.77  366168.42     Florida  166187.94"
      ]
     },
     "execution_count": 4,
     "metadata": {},
     "output_type": "execute_result"
    }
   ],
   "source": [
    "import pandas as pd\n",
    "A = pd.read_csv(\"C:/Users/Administrator/Downloads/50_Startups (1).csv\")\n",
    "A.head()"
   ]
  },
  {
   "cell_type": "code",
   "execution_count": 5,
   "id": "f902abb3",
   "metadata": {},
   "outputs": [
    {
     "data": {
      "text/plain": [
       "(50, 5)"
      ]
     },
     "execution_count": 5,
     "metadata": {},
     "output_type": "execute_result"
    }
   ],
   "source": [
    "A.shape"
   ]
  },
  {
   "cell_type": "code",
   "execution_count": 6,
   "id": "f6db4c82",
   "metadata": {},
   "outputs": [
    {
     "data": {
      "text/plain": [
       "50"
      ]
     },
     "execution_count": 6,
     "metadata": {},
     "output_type": "execute_result"
    }
   ],
   "source": [
    "len(A)"
   ]
  },
  {
   "cell_type": "code",
   "execution_count": 7,
   "id": "939f121b",
   "metadata": {},
   "outputs": [
    {
     "data": {
      "text/plain": [
       "str"
      ]
     },
     "execution_count": 7,
     "metadata": {},
     "output_type": "execute_result"
    }
   ],
   "source": [
    "type(name)"
   ]
  },
  {
   "cell_type": "code",
   "execution_count": 8,
   "id": "d3e048e9",
   "metadata": {},
   "outputs": [
    {
     "data": {
      "text/plain": [
       "list"
      ]
     },
     "execution_count": 8,
     "metadata": {},
     "output_type": "execute_result"
    }
   ],
   "source": [
    "type(a)"
   ]
  },
  {
   "cell_type": "code",
   "execution_count": 9,
   "id": "342b720f",
   "metadata": {},
   "outputs": [
    {
     "data": {
      "text/plain": [
       "dict"
      ]
     },
     "execution_count": 9,
     "metadata": {},
     "output_type": "execute_result"
    }
   ],
   "source": [
    "type(dct)"
   ]
  },
  {
   "cell_type": "code",
   "execution_count": 10,
   "id": "6838bcc8",
   "metadata": {},
   "outputs": [
    {
     "data": {
      "text/plain": [
       "pandas.core.frame.DataFrame"
      ]
     },
     "execution_count": 10,
     "metadata": {},
     "output_type": "execute_result"
    }
   ],
   "source": [
    "type(A)"
   ]
  },
  {
   "cell_type": "markdown",
   "id": "28b1468b",
   "metadata": {},
   "source": [
    "# Polymorphism in Operators\n"
   ]
  },
  {
   "cell_type": "code",
   "execution_count": 11,
   "id": "e43ddd27",
   "metadata": {},
   "outputs": [
    {
     "data": {
      "text/plain": [
       "10"
      ]
     },
     "execution_count": 11,
     "metadata": {},
     "output_type": "execute_result"
    }
   ],
   "source": [
    "3+7"
   ]
  },
  {
   "cell_type": "code",
   "execution_count": 12,
   "id": "1c3f0ca5",
   "metadata": {},
   "outputs": [
    {
     "data": {
      "text/plain": [
       "12.4"
      ]
     },
     "execution_count": 12,
     "metadata": {},
     "output_type": "execute_result"
    }
   ],
   "source": [
    "4.5 + 7.9"
   ]
  },
  {
   "cell_type": "code",
   "execution_count": 13,
   "id": "272a45b0",
   "metadata": {},
   "outputs": [
    {
     "data": {
      "text/plain": [
       "'ETLhive'"
      ]
     },
     "execution_count": 13,
     "metadata": {},
     "output_type": "execute_result"
    }
   ],
   "source": [
    "'ETL'+'hive'"
   ]
  },
  {
   "cell_type": "code",
   "execution_count": 14,
   "id": "34ed224e",
   "metadata": {},
   "outputs": [
    {
     "data": {
      "text/plain": [
       "[1, 2, 3, 4, 5]"
      ]
     },
     "execution_count": 14,
     "metadata": {},
     "output_type": "execute_result"
    }
   ],
   "source": [
    "[1,2,3] + [4,5]"
   ]
  },
  {
   "cell_type": "markdown",
   "id": "61dc2161",
   "metadata": {},
   "source": [
    "# Polymorphism in Classes\n"
   ]
  },
  {
   "cell_type": "code",
   "execution_count": 15,
   "id": "f9f355e5",
   "metadata": {},
   "outputs": [],
   "source": [
    "class India:\n",
    "    \n",
    "    def capital(self):\n",
    "        print('Capital of India is Delhi')\n",
    "    \n",
    "    def language(self):\n",
    "        print('Hindi is most widely spoken language in India')"
   ]
  },
  {
   "cell_type": "code",
   "execution_count": 16,
   "id": "57eb3845",
   "metadata": {},
   "outputs": [],
   "source": [
    "class USA:\n",
    "    \n",
    "    def capital(self):\n",
    "        print('Capital of USA is Washington D.C.')\n",
    "        \n",
    "    def language(self):\n",
    "        print('English is most widely spoken language in USA')"
   ]
  },
  {
   "cell_type": "code",
   "execution_count": 17,
   "id": "4a719510",
   "metadata": {},
   "outputs": [],
   "source": [
    "i = India()\n",
    "u = USA()"
   ]
  },
  {
   "cell_type": "code",
   "execution_count": 18,
   "id": "b7a0edb7",
   "metadata": {},
   "outputs": [
    {
     "name": "stdout",
     "output_type": "stream",
     "text": [
      "Capital of India is Delhi\n"
     ]
    }
   ],
   "source": [
    "i.capital()    "
   ]
  },
  {
   "cell_type": "code",
   "execution_count": 19,
   "id": "8f913ba7",
   "metadata": {},
   "outputs": [
    {
     "name": "stdout",
     "output_type": "stream",
     "text": [
      "Hindi is most widely spoken language in India\n"
     ]
    }
   ],
   "source": [
    "i.language()"
   ]
  },
  {
   "cell_type": "code",
   "execution_count": 20,
   "id": "a390e46f",
   "metadata": {},
   "outputs": [
    {
     "name": "stdout",
     "output_type": "stream",
     "text": [
      "Capital of USA is Washington D.C.\n"
     ]
    }
   ],
   "source": [
    "u.capital()    "
   ]
  },
  {
   "cell_type": "code",
   "execution_count": 21,
   "id": "87b775df",
   "metadata": {},
   "outputs": [
    {
     "name": "stdout",
     "output_type": "stream",
     "text": [
      "English is most widely spoken language in USA\n"
     ]
    }
   ],
   "source": [
    "u.language()"
   ]
  },
  {
   "cell_type": "code",
   "execution_count": 22,
   "id": "ad05e171",
   "metadata": {},
   "outputs": [
    {
     "name": "stdout",
     "output_type": "stream",
     "text": [
      "Capital of India is Delhi\n",
      "Hindi is most widely spoken language in India\n",
      "\n",
      "=============================================\n",
      "\n",
      "Capital of USA is Washington D.C.\n",
      "English is most widely spoken language in USA\n",
      "\n",
      "=============================================\n",
      "\n"
     ]
    }
   ],
   "source": [
    "for country in [i,u]:\n",
    "    country.capital()\n",
    "    country.language()\n",
    "    print('\\n=============================================\\n')"
   ]
  },
  {
   "cell_type": "code",
   "execution_count": 23,
   "id": "3362e972",
   "metadata": {},
   "outputs": [
    {
     "data": {
      "text/plain": [
       "__main__.India"
      ]
     },
     "execution_count": 23,
     "metadata": {},
     "output_type": "execute_result"
    }
   ],
   "source": [
    "type(i)"
   ]
  },
  {
   "cell_type": "code",
   "execution_count": 24,
   "id": "4f692d22",
   "metadata": {},
   "outputs": [
    {
     "data": {
      "text/plain": [
       "__main__.USA"
      ]
     },
     "execution_count": 24,
     "metadata": {},
     "output_type": "execute_result"
    }
   ],
   "source": [
    "type(u)"
   ]
  },
  {
   "cell_type": "markdown",
   "id": "2e2e7c28",
   "metadata": {},
   "source": [
    "# Different shapes polymorphism\n"
   ]
  },
  {
   "cell_type": "code",
   "execution_count": 25,
   "id": "ac731745",
   "metadata": {},
   "outputs": [],
   "source": [
    "class rectangle:\n",
    "    \n",
    "    def __init__(self,l,w):\n",
    "        self.l = l\n",
    "        self.w = w\n",
    "        \n",
    "    def area(self):\n",
    "        ar = self.l*self.w   \n",
    "        return ar\n"
   ]
  },
  {
   "cell_type": "code",
   "execution_count": 26,
   "id": "44927876",
   "metadata": {},
   "outputs": [],
   "source": [
    "class square:\n",
    "    \n",
    "    def __init__(self, side):\n",
    "        self.side = side\n",
    "    \n",
    "    def area(self):\n",
    "        ar = self.side**2\n",
    "        return ar"
   ]
  },
  {
   "cell_type": "code",
   "execution_count": 27,
   "id": "148444e9",
   "metadata": {},
   "outputs": [],
   "source": [
    "class circle:\n",
    "    \n",
    "    def __init__(self,radius):\n",
    "        self.radius = radius\n",
    "        \n",
    "    def area(self):\n",
    "        from math import pi\n",
    "        ar = pi*(self.radius**2)\n",
    "        return ar"
   ]
  },
  {
   "cell_type": "code",
   "execution_count": 28,
   "id": "9fb7b0d8",
   "metadata": {},
   "outputs": [
    {
     "data": {
      "text/plain": [
       "3.141592653589793"
      ]
     },
     "execution_count": 28,
     "metadata": {},
     "output_type": "execute_result"
    }
   ],
   "source": [
    "from math import pi\n",
    "pi"
   ]
  },
  {
   "cell_type": "code",
   "execution_count": 29,
   "id": "0d3aaa83",
   "metadata": {},
   "outputs": [],
   "source": [
    "r = rectangle(10,6)\n",
    "s = square(5)\n",
    "c = circle(7)"
   ]
  },
  {
   "cell_type": "code",
   "execution_count": 30,
   "id": "bd77c311",
   "metadata": {},
   "outputs": [],
   "source": [
    "shapes = [r, s, c]"
   ]
  },
  {
   "cell_type": "code",
   "execution_count": 31,
   "id": "7487f920",
   "metadata": {},
   "outputs": [
    {
     "name": "stdout",
     "output_type": "stream",
     "text": [
      "<class '__main__.rectangle'>\n",
      "Area: 60\n",
      "\n",
      "=========================================\n",
      "\n",
      "<class '__main__.square'>\n",
      "Area: 25\n",
      "\n",
      "=========================================\n",
      "\n",
      "<class '__main__.circle'>\n",
      "Area: 153.93804002589985\n",
      "\n",
      "=========================================\n",
      "\n"
     ]
    }
   ],
   "source": [
    "for i in shapes:\n",
    "    print(type(i))\n",
    "    print(f'Area: {i.area()}')\n",
    "    print('\\n=========================================\\n')"
   ]
  },
  {
   "cell_type": "code",
   "execution_count": null,
   "id": "e6b4bc1b",
   "metadata": {},
   "outputs": [],
   "source": []
  }
 ],
 "metadata": {
  "kernelspec": {
   "display_name": "Python 3 (ipykernel)",
   "language": "python",
   "name": "python3"
  },
  "language_info": {
   "codemirror_mode": {
    "name": "ipython",
    "version": 3
   },
   "file_extension": ".py",
   "mimetype": "text/x-python",
   "name": "python",
   "nbconvert_exporter": "python",
   "pygments_lexer": "ipython3",
   "version": "3.9.13"
  }
 },
 "nbformat": 4,
 "nbformat_minor": 5
}
