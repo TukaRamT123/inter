{
 "cells": [
  {
   "cell_type": "code",
   "execution_count": 2,
   "id": "92b6f404",
   "metadata": {},
   "outputs": [],
   "source": [
    "from sklearn.datasets import make_classification\n",
    "X,Y = make_classification(n_samples=1000,\n",
    "                    n_features=15,\n",
    "                    n_informative=12,\n",
    "                    n_classes=3,\n",
    "                    random_state=42)"
   ]
  },
  {
   "cell_type": "code",
   "execution_count": 3,
   "id": "ab5812b8",
   "metadata": {},
   "outputs": [
    {
     "data": {
      "text/plain": [
       "array([[ 0.95091731, 11.21431993, -0.95806338, ...,  2.56575504,\n",
       "         5.2082935 ,  0.1657151 ],\n",
       "       [-3.86954583,  5.74037207,  0.50663018, ..., -0.59258979,\n",
       "         3.31985984,  0.5625417 ],\n",
       "       [ 2.6263031 ,  1.6648672 ,  2.88600917, ...,  1.56605846,\n",
       "        -0.3540842 , -0.2275944 ],\n",
       "       ...,\n",
       "       [ 3.32880521, -3.00150546,  3.32272928, ..., -0.30216167,\n",
       "        -1.18366892, -1.32514693],\n",
       "       [-4.73091951,  5.31888342,  1.85665106, ...,  1.82469406,\n",
       "        -4.52381385, -2.26447361],\n",
       "       [-2.44841787, -3.79568744,  1.16301578, ..., -2.67959172,\n",
       "        -2.79940088,  0.06842362]])"
      ]
     },
     "execution_count": 3,
     "metadata": {},
     "output_type": "execute_result"
    }
   ],
   "source": [
    "X"
   ]
  },
  {
   "cell_type": "code",
   "execution_count": 4,
   "id": "005ac1c5",
   "metadata": {},
   "outputs": [
    {
     "data": {
      "text/plain": [
       "array([1, 2, 2, 1, 2, 1, 0, 2, 1, 1, 2, 0, 0, 0, 1, 0, 0, 0, 1, 2, 0, 2,\n",
       "       1, 2, 0, 0, 2, 2, 2, 1, 0, 0, 0, 1, 0, 1, 2, 1, 1, 2, 2, 0, 1, 1,\n",
       "       1, 0, 0, 1, 0, 0, 0, 2, 1, 1, 2, 2, 2, 1, 1, 1, 0, 1, 0, 1, 2, 2,\n",
       "       0, 1, 1, 2, 2, 2, 2, 1, 0, 0, 1, 2, 1, 0, 2, 1, 0, 2, 0, 0, 1, 1,\n",
       "       1, 2, 1, 0, 0, 1, 2, 1, 0, 0, 0, 1, 0, 2, 0, 0, 0, 1, 2, 1, 1, 0,\n",
       "       2, 2, 1, 2, 1, 1, 2, 2, 1, 0, 1, 1, 1, 1, 1, 1, 2, 1, 1, 2, 0, 1,\n",
       "       2, 0, 0, 1, 0, 2, 0, 0, 2, 0, 0, 1, 2, 1, 0, 0, 1, 2, 1, 0, 0, 0,\n",
       "       2, 0, 0, 0, 0, 1, 0, 2, 1, 0, 2, 1, 2, 1, 2, 2, 0, 1, 1, 2, 1, 0,\n",
       "       0, 2, 2, 0, 0, 0, 0, 2, 2, 1, 2, 0, 0, 0, 0, 0, 0, 1, 0, 0, 2, 0,\n",
       "       1, 1, 2, 0, 2, 0, 0, 1, 2, 1, 2, 2, 2, 2, 1, 0, 1, 0, 1, 1, 1, 0,\n",
       "       0, 0, 2, 2, 2, 2, 0, 0, 1, 1, 1, 0, 1, 2, 0, 2, 1, 1, 0, 2, 0, 0,\n",
       "       2, 1, 2, 1, 1, 1, 0, 0, 0, 2, 1, 1, 0, 2, 1, 2, 1, 2, 1, 0, 1, 2,\n",
       "       1, 2, 0, 0, 2, 2, 0, 1, 2, 0, 2, 2, 1, 1, 1, 1, 1, 2, 1, 0, 0, 1,\n",
       "       2, 0, 1, 2, 0, 2, 1, 0, 1, 2, 2, 1, 2, 1, 1, 2, 1, 0, 2, 2, 2, 1,\n",
       "       2, 1, 0, 0, 2, 0, 0, 2, 2, 2, 1, 0, 1, 0, 2, 0, 0, 1, 0, 2, 1, 0,\n",
       "       2, 2, 0, 1, 1, 2, 0, 2, 0, 2, 0, 1, 1, 2, 2, 0, 1, 2, 0, 2, 1, 1,\n",
       "       2, 1, 1, 2, 2, 2, 1, 2, 1, 1, 2, 0, 2, 2, 2, 2, 0, 0, 1, 0, 0, 0,\n",
       "       2, 1, 0, 0, 0, 0, 1, 2, 2, 0, 1, 1, 0, 1, 1, 0, 0, 0, 0, 1, 2, 0,\n",
       "       1, 1, 2, 2, 0, 2, 2, 1, 1, 0, 1, 2, 0, 0, 0, 2, 0, 0, 1, 0, 2, 1,\n",
       "       1, 1, 1, 1, 1, 0, 2, 0, 2, 1, 1, 1, 1, 1, 0, 1, 0, 0, 0, 2, 0, 0,\n",
       "       1, 0, 2, 2, 2, 1, 2, 1, 1, 2, 1, 2, 1, 1, 1, 0, 0, 1, 2, 1, 0, 0,\n",
       "       2, 1, 2, 1, 1, 1, 1, 1, 1, 0, 0, 1, 0, 2, 2, 0, 1, 0, 0, 0, 2, 1,\n",
       "       1, 0, 1, 0, 0, 2, 0, 2, 1, 2, 0, 2, 1, 0, 1, 2, 0, 1, 2, 1, 1, 1,\n",
       "       2, 1, 2, 2, 1, 1, 0, 0, 2, 0, 1, 0, 2, 1, 0, 2, 0, 0, 2, 2, 0, 2,\n",
       "       0, 0, 2, 0, 1, 1, 2, 0, 0, 0, 1, 1, 0, 0, 0, 2, 2, 1, 0, 0, 0, 2,\n",
       "       1, 1, 0, 0, 0, 2, 1, 1, 1, 2, 0, 1, 1, 2, 2, 2, 1, 0, 0, 0, 2, 1,\n",
       "       2, 0, 2, 2, 1, 0, 2, 1, 0, 0, 1, 1, 2, 1, 2, 2, 1, 0, 1, 1, 1, 2,\n",
       "       2, 0, 1, 1, 2, 1, 1, 2, 2, 2, 1, 0, 0, 0, 2, 1, 2, 2, 0, 2, 2, 2,\n",
       "       2, 2, 2, 2, 1, 1, 2, 1, 1, 2, 2, 2, 2, 2, 0, 1, 0, 2, 1, 0, 1, 0,\n",
       "       1, 0, 0, 2, 2, 1, 0, 0, 1, 1, 2, 2, 1, 1, 1, 1, 2, 2, 1, 1, 1, 2,\n",
       "       1, 2, 0, 0, 0, 2, 0, 0, 1, 0, 0, 1, 2, 2, 2, 0, 0, 1, 1, 1, 1, 2,\n",
       "       2, 2, 0, 1, 1, 1, 0, 1, 1, 1, 1, 0, 0, 2, 2, 2, 2, 0, 2, 1, 1, 0,\n",
       "       0, 2, 0, 2, 2, 0, 2, 2, 1, 0, 0, 0, 0, 1, 0, 2, 1, 0, 1, 1, 2, 2,\n",
       "       0, 0, 1, 2, 0, 1, 0, 0, 1, 1, 0, 2, 0, 1, 2, 0, 1, 0, 1, 0, 1, 1,\n",
       "       2, 0, 0, 1, 2, 2, 2, 2, 2, 0, 0, 2, 0, 2, 0, 2, 1, 0, 0, 1, 2, 0,\n",
       "       0, 0, 1, 2, 2, 2, 1, 2, 1, 2, 2, 2, 1, 1, 0, 1, 1, 1, 2, 0, 2, 2,\n",
       "       0, 0, 2, 1, 1, 0, 0, 2, 0, 1, 1, 2, 2, 1, 2, 0, 2, 2, 2, 2, 0, 1,\n",
       "       1, 1, 1, 1, 1, 2, 2, 0, 1, 1, 0, 1, 2, 2, 0, 0, 2, 2, 2, 2, 2, 1,\n",
       "       0, 0, 2, 2, 0, 1, 1, 0, 2, 1, 0, 0, 0, 1, 0, 2, 1, 0, 1, 0, 2, 0,\n",
       "       2, 1, 2, 0, 1, 2, 1, 0, 0, 0, 0, 0, 0, 1, 0, 2, 0, 2, 2, 0, 0, 0,\n",
       "       0, 2, 0, 0, 1, 0, 0, 2, 0, 0, 1, 2, 0, 0, 0, 0, 2, 2, 0, 0, 1, 1,\n",
       "       0, 1, 1, 2, 1, 2, 2, 1, 1, 2, 2, 2, 1, 2, 2, 1, 2, 2, 2, 2, 1, 2,\n",
       "       2, 1, 2, 1, 2, 2, 0, 2, 1, 2, 0, 2, 1, 0, 2, 1, 1, 2, 0, 2, 0, 1,\n",
       "       1, 1, 0, 2, 2, 1, 0, 1, 1, 1, 2, 0, 0, 2, 0, 1, 0, 0, 1, 1, 0, 2,\n",
       "       0, 0, 0, 1, 1, 1, 0, 0, 2, 2, 0, 0, 0, 2, 2, 0, 2, 2, 2, 1, 2, 1,\n",
       "       1, 2, 1, 0, 2, 2, 0, 0, 1, 2])"
      ]
     },
     "execution_count": 4,
     "metadata": {},
     "output_type": "execute_result"
    }
   ],
   "source": [
    "Y"
   ]
  },
  {
   "cell_type": "code",
   "execution_count": 5,
   "id": "d0b002cc",
   "metadata": {},
   "outputs": [
    {
     "data": {
      "text/html": [
       "<div>\n",
       "<style scoped>\n",
       "    .dataframe tbody tr th:only-of-type {\n",
       "        vertical-align: middle;\n",
       "    }\n",
       "\n",
       "    .dataframe tbody tr th {\n",
       "        vertical-align: top;\n",
       "    }\n",
       "\n",
       "    .dataframe thead th {\n",
       "        text-align: right;\n",
       "    }\n",
       "</style>\n",
       "<table border=\"1\" class=\"dataframe\">\n",
       "  <thead>\n",
       "    <tr style=\"text-align: right;\">\n",
       "      <th></th>\n",
       "      <th>x1</th>\n",
       "      <th>x2</th>\n",
       "      <th>x3</th>\n",
       "      <th>x4</th>\n",
       "      <th>x5</th>\n",
       "      <th>x6</th>\n",
       "      <th>x7</th>\n",
       "      <th>x8</th>\n",
       "      <th>x9</th>\n",
       "      <th>x10</th>\n",
       "      <th>x11</th>\n",
       "      <th>x12</th>\n",
       "      <th>x13</th>\n",
       "      <th>x14</th>\n",
       "      <th>x15</th>\n",
       "    </tr>\n",
       "  </thead>\n",
       "  <tbody>\n",
       "    <tr>\n",
       "      <th>0</th>\n",
       "      <td>0.950917</td>\n",
       "      <td>11.214320</td>\n",
       "      <td>-0.958063</td>\n",
       "      <td>1.930976</td>\n",
       "      <td>-2.030550</td>\n",
       "      <td>-1.016656</td>\n",
       "      <td>2.613022</td>\n",
       "      <td>-0.013663</td>\n",
       "      <td>-3.353878</td>\n",
       "      <td>-2.007517</td>\n",
       "      <td>0.078313</td>\n",
       "      <td>-3.405589</td>\n",
       "      <td>2.565755</td>\n",
       "      <td>5.208294</td>\n",
       "      <td>0.165715</td>\n",
       "    </tr>\n",
       "    <tr>\n",
       "      <th>1</th>\n",
       "      <td>-3.869546</td>\n",
       "      <td>5.740372</td>\n",
       "      <td>0.506630</td>\n",
       "      <td>-2.167597</td>\n",
       "      <td>4.757032</td>\n",
       "      <td>-3.493199</td>\n",
       "      <td>0.945454</td>\n",
       "      <td>0.582687</td>\n",
       "      <td>4.918444</td>\n",
       "      <td>1.069231</td>\n",
       "      <td>0.164015</td>\n",
       "      <td>-2.643364</td>\n",
       "      <td>-0.592590</td>\n",
       "      <td>3.319860</td>\n",
       "      <td>0.562542</td>\n",
       "    </tr>\n",
       "    <tr>\n",
       "      <th>2</th>\n",
       "      <td>2.626303</td>\n",
       "      <td>1.664867</td>\n",
       "      <td>2.886009</td>\n",
       "      <td>4.360742</td>\n",
       "      <td>-9.671077</td>\n",
       "      <td>1.016979</td>\n",
       "      <td>-0.883391</td>\n",
       "      <td>0.291219</td>\n",
       "      <td>-3.884571</td>\n",
       "      <td>-1.550511</td>\n",
       "      <td>-4.620259</td>\n",
       "      <td>-0.775688</td>\n",
       "      <td>1.566058</td>\n",
       "      <td>-0.354084</td>\n",
       "      <td>-0.227594</td>\n",
       "    </tr>\n",
       "    <tr>\n",
       "      <th>3</th>\n",
       "      <td>-3.460421</td>\n",
       "      <td>1.947393</td>\n",
       "      <td>-1.733595</td>\n",
       "      <td>0.218195</td>\n",
       "      <td>9.034138</td>\n",
       "      <td>-1.238808</td>\n",
       "      <td>1.993005</td>\n",
       "      <td>1.157847</td>\n",
       "      <td>0.626767</td>\n",
       "      <td>5.313241</td>\n",
       "      <td>1.040192</td>\n",
       "      <td>-2.548981</td>\n",
       "      <td>-3.475180</td>\n",
       "      <td>1.147337</td>\n",
       "      <td>0.277939</td>\n",
       "    </tr>\n",
       "    <tr>\n",
       "      <th>4</th>\n",
       "      <td>1.298833</td>\n",
       "      <td>-3.975784</td>\n",
       "      <td>-0.028726</td>\n",
       "      <td>1.241999</td>\n",
       "      <td>4.604510</td>\n",
       "      <td>-2.313863</td>\n",
       "      <td>0.859217</td>\n",
       "      <td>1.310883</td>\n",
       "      <td>3.458580</td>\n",
       "      <td>3.412993</td>\n",
       "      <td>1.886190</td>\n",
       "      <td>0.720305</td>\n",
       "      <td>-1.882927</td>\n",
       "      <td>0.092444</td>\n",
       "      <td>-0.614814</td>\n",
       "    </tr>\n",
       "  </tbody>\n",
       "</table>\n",
       "</div>"
      ],
      "text/plain": [
       "         x1         x2        x3        x4        x5        x6        x7  \\\n",
       "0  0.950917  11.214320 -0.958063  1.930976 -2.030550 -1.016656  2.613022   \n",
       "1 -3.869546   5.740372  0.506630 -2.167597  4.757032 -3.493199  0.945454   \n",
       "2  2.626303   1.664867  2.886009  4.360742 -9.671077  1.016979 -0.883391   \n",
       "3 -3.460421   1.947393 -1.733595  0.218195  9.034138 -1.238808  1.993005   \n",
       "4  1.298833  -3.975784 -0.028726  1.241999  4.604510 -2.313863  0.859217   \n",
       "\n",
       "         x8        x9       x10       x11       x12       x13       x14  \\\n",
       "0 -0.013663 -3.353878 -2.007517  0.078313 -3.405589  2.565755  5.208294   \n",
       "1  0.582687  4.918444  1.069231  0.164015 -2.643364 -0.592590  3.319860   \n",
       "2  0.291219 -3.884571 -1.550511 -4.620259 -0.775688  1.566058 -0.354084   \n",
       "3  1.157847  0.626767  5.313241  1.040192 -2.548981 -3.475180  1.147337   \n",
       "4  1.310883  3.458580  3.412993  1.886190  0.720305 -1.882927  0.092444   \n",
       "\n",
       "        x15  \n",
       "0  0.165715  \n",
       "1  0.562542  \n",
       "2 -0.227594  \n",
       "3  0.277939  \n",
       "4 -0.614814  "
      ]
     },
     "execution_count": 5,
     "metadata": {},
     "output_type": "execute_result"
    }
   ],
   "source": [
    "import pandas as pd\n",
    "from warnings import filterwarnings\n",
    "filterwarnings('ignore')\n",
    "features = ['x1','x2','x3','x4','x5','x6','x7','x8','x9','x10',\"x11\",\"x12\",\"x13\",\"x14\",\"x15\"]\n",
    "X = pd.DataFrame(X,columns=features)\n",
    "X.head()"
   ]
  },
  {
   "cell_type": "code",
   "execution_count": 6,
   "id": "c15f5ed9",
   "metadata": {},
   "outputs": [
    {
     "data": {
      "text/plain": [
       "array([[0., 1., 0.],\n",
       "       [0., 0., 1.],\n",
       "       [0., 0., 1.],\n",
       "       ...,\n",
       "       [1., 0., 0.],\n",
       "       [0., 1., 0.],\n",
       "       [0., 0., 1.]], dtype=float32)"
      ]
     },
     "execution_count": 6,
     "metadata": {},
     "output_type": "execute_result"
    }
   ],
   "source": [
    "from keras.utils import to_categorical\n",
    "Y = to_categorical(Y)\n",
    "Y"
   ]
  },
  {
   "cell_type": "code",
   "execution_count": 7,
   "id": "bdc3c8d2",
   "metadata": {},
   "outputs": [
    {
     "data": {
      "text/plain": [
       "x1     0\n",
       "x2     0\n",
       "x3     0\n",
       "x4     0\n",
       "x5     0\n",
       "x6     0\n",
       "x7     0\n",
       "x8     0\n",
       "x9     0\n",
       "x10    0\n",
       "x11    0\n",
       "x12    0\n",
       "x13    0\n",
       "x14    0\n",
       "x15    0\n",
       "dtype: int64"
      ]
     },
     "execution_count": 7,
     "metadata": {},
     "output_type": "execute_result"
    }
   ],
   "source": [
    "X.isna().sum()"
   ]
  },
  {
   "cell_type": "code",
   "execution_count": 9,
   "id": "e71258ce",
   "metadata": {},
   "outputs": [],
   "source": [
    "from sklearn.model_selection import train_test_split\n",
    "xtrain, xtest, ytrain, ytest = train_test_split(X,Y,test_size=0.2,random_state=42)"
   ]
  },
  {
   "cell_type": "code",
   "execution_count": 10,
   "id": "52ac46f6",
   "metadata": {},
   "outputs": [
    {
     "data": {
      "text/plain": [
       "(800, 15)"
      ]
     },
     "execution_count": 10,
     "metadata": {},
     "output_type": "execute_result"
    }
   ],
   "source": [
    "xtrain.shape"
   ]
  },
  {
   "cell_type": "code",
   "execution_count": 11,
   "id": "4f8ee4d0",
   "metadata": {},
   "outputs": [
    {
     "data": {
      "text/plain": [
       "(200, 15)"
      ]
     },
     "execution_count": 11,
     "metadata": {},
     "output_type": "execute_result"
    }
   ],
   "source": [
    "xtest.shape"
   ]
  },
  {
   "cell_type": "code",
   "execution_count": 12,
   "id": "5e060e6f",
   "metadata": {},
   "outputs": [],
   "source": [
    "from sklearn.preprocessing import StandardScaler\n",
    "scaler = StandardScaler()\n",
    "xtrain = pd.DataFrame(scaler.fit_transform(xtrain),columns=xtrain.columns)\n",
    "xtest = pd.DataFrame(scaler.transform(xtest),columns=xtest.columns)"
   ]
  },
  {
   "cell_type": "code",
   "execution_count": 13,
   "id": "cbd0714d",
   "metadata": {},
   "outputs": [
    {
     "data": {
      "text/html": [
       "<div>\n",
       "<style scoped>\n",
       "    .dataframe tbody tr th:only-of-type {\n",
       "        vertical-align: middle;\n",
       "    }\n",
       "\n",
       "    .dataframe tbody tr th {\n",
       "        vertical-align: top;\n",
       "    }\n",
       "\n",
       "    .dataframe thead th {\n",
       "        text-align: right;\n",
       "    }\n",
       "</style>\n",
       "<table border=\"1\" class=\"dataframe\">\n",
       "  <thead>\n",
       "    <tr style=\"text-align: right;\">\n",
       "      <th></th>\n",
       "      <th>x1</th>\n",
       "      <th>x2</th>\n",
       "      <th>x3</th>\n",
       "      <th>x4</th>\n",
       "      <th>x5</th>\n",
       "      <th>x6</th>\n",
       "      <th>x7</th>\n",
       "      <th>x8</th>\n",
       "      <th>x9</th>\n",
       "      <th>x10</th>\n",
       "      <th>x11</th>\n",
       "      <th>x12</th>\n",
       "      <th>x13</th>\n",
       "      <th>x14</th>\n",
       "      <th>x15</th>\n",
       "    </tr>\n",
       "  </thead>\n",
       "  <tbody>\n",
       "    <tr>\n",
       "      <th>0</th>\n",
       "      <td>0.859542</td>\n",
       "      <td>-0.436289</td>\n",
       "      <td>-1.747558</td>\n",
       "      <td>0.632211</td>\n",
       "      <td>0.124057</td>\n",
       "      <td>-0.089068</td>\n",
       "      <td>-0.631605</td>\n",
       "      <td>0.285979</td>\n",
       "      <td>0.133449</td>\n",
       "      <td>0.170457</td>\n",
       "      <td>-0.886164</td>\n",
       "      <td>0.043844</td>\n",
       "      <td>-1.318520</td>\n",
       "      <td>-0.340491</td>\n",
       "      <td>1.116815</td>\n",
       "    </tr>\n",
       "    <tr>\n",
       "      <th>1</th>\n",
       "      <td>0.781343</td>\n",
       "      <td>0.921908</td>\n",
       "      <td>-0.073909</td>\n",
       "      <td>1.890731</td>\n",
       "      <td>-0.588977</td>\n",
       "      <td>-0.081148</td>\n",
       "      <td>1.590642</td>\n",
       "      <td>0.688837</td>\n",
       "      <td>-0.329546</td>\n",
       "      <td>-0.017192</td>\n",
       "      <td>-0.387731</td>\n",
       "      <td>1.114050</td>\n",
       "      <td>-0.865808</td>\n",
       "      <td>-0.176080</td>\n",
       "      <td>-1.382623</td>\n",
       "    </tr>\n",
       "    <tr>\n",
       "      <th>2</th>\n",
       "      <td>-0.519787</td>\n",
       "      <td>-0.643444</td>\n",
       "      <td>0.670124</td>\n",
       "      <td>-0.266557</td>\n",
       "      <td>0.306332</td>\n",
       "      <td>-1.418201</td>\n",
       "      <td>-1.392422</td>\n",
       "      <td>0.600178</td>\n",
       "      <td>1.572844</td>\n",
       "      <td>0.425182</td>\n",
       "      <td>1.280410</td>\n",
       "      <td>-0.330488</td>\n",
       "      <td>-0.067401</td>\n",
       "      <td>0.666922</td>\n",
       "      <td>-0.218149</td>\n",
       "    </tr>\n",
       "    <tr>\n",
       "      <th>3</th>\n",
       "      <td>0.831849</td>\n",
       "      <td>-0.392178</td>\n",
       "      <td>-0.516025</td>\n",
       "      <td>0.039193</td>\n",
       "      <td>0.726931</td>\n",
       "      <td>0.268996</td>\n",
       "      <td>0.286019</td>\n",
       "      <td>0.921431</td>\n",
       "      <td>-1.099479</td>\n",
       "      <td>0.281704</td>\n",
       "      <td>-0.019656</td>\n",
       "      <td>-1.433181</td>\n",
       "      <td>-0.417024</td>\n",
       "      <td>0.171073</td>\n",
       "      <td>1.046236</td>\n",
       "    </tr>\n",
       "    <tr>\n",
       "      <th>4</th>\n",
       "      <td>-0.464279</td>\n",
       "      <td>0.603744</td>\n",
       "      <td>0.808103</td>\n",
       "      <td>0.488477</td>\n",
       "      <td>-0.278764</td>\n",
       "      <td>-0.079461</td>\n",
       "      <td>0.704715</td>\n",
       "      <td>-0.531377</td>\n",
       "      <td>1.716259</td>\n",
       "      <td>0.413263</td>\n",
       "      <td>-2.602883</td>\n",
       "      <td>-0.177280</td>\n",
       "      <td>0.599953</td>\n",
       "      <td>-0.203605</td>\n",
       "      <td>1.230957</td>\n",
       "    </tr>\n",
       "  </tbody>\n",
       "</table>\n",
       "</div>"
      ],
      "text/plain": [
       "         x1        x2        x3        x4        x5        x6        x7  \\\n",
       "0  0.859542 -0.436289 -1.747558  0.632211  0.124057 -0.089068 -0.631605   \n",
       "1  0.781343  0.921908 -0.073909  1.890731 -0.588977 -0.081148  1.590642   \n",
       "2 -0.519787 -0.643444  0.670124 -0.266557  0.306332 -1.418201 -1.392422   \n",
       "3  0.831849 -0.392178 -0.516025  0.039193  0.726931  0.268996  0.286019   \n",
       "4 -0.464279  0.603744  0.808103  0.488477 -0.278764 -0.079461  0.704715   \n",
       "\n",
       "         x8        x9       x10       x11       x12       x13       x14  \\\n",
       "0  0.285979  0.133449  0.170457 -0.886164  0.043844 -1.318520 -0.340491   \n",
       "1  0.688837 -0.329546 -0.017192 -0.387731  1.114050 -0.865808 -0.176080   \n",
       "2  0.600178  1.572844  0.425182  1.280410 -0.330488 -0.067401  0.666922   \n",
       "3  0.921431 -1.099479  0.281704 -0.019656 -1.433181 -0.417024  0.171073   \n",
       "4 -0.531377  1.716259  0.413263 -2.602883 -0.177280  0.599953 -0.203605   \n",
       "\n",
       "        x15  \n",
       "0  1.116815  \n",
       "1 -1.382623  \n",
       "2 -0.218149  \n",
       "3  1.046236  \n",
       "4  1.230957  "
      ]
     },
     "execution_count": 13,
     "metadata": {},
     "output_type": "execute_result"
    }
   ],
   "source": [
    "xtrain.head()"
   ]
  },
  {
   "cell_type": "code",
   "execution_count": 14,
   "id": "69e57699",
   "metadata": {},
   "outputs": [
    {
     "data": {
      "text/html": [
       "<div>\n",
       "<style scoped>\n",
       "    .dataframe tbody tr th:only-of-type {\n",
       "        vertical-align: middle;\n",
       "    }\n",
       "\n",
       "    .dataframe tbody tr th {\n",
       "        vertical-align: top;\n",
       "    }\n",
       "\n",
       "    .dataframe thead th {\n",
       "        text-align: right;\n",
       "    }\n",
       "</style>\n",
       "<table border=\"1\" class=\"dataframe\">\n",
       "  <thead>\n",
       "    <tr style=\"text-align: right;\">\n",
       "      <th></th>\n",
       "      <th>x1</th>\n",
       "      <th>x2</th>\n",
       "      <th>x3</th>\n",
       "      <th>x4</th>\n",
       "      <th>x5</th>\n",
       "      <th>x6</th>\n",
       "      <th>x7</th>\n",
       "      <th>x8</th>\n",
       "      <th>x9</th>\n",
       "      <th>x10</th>\n",
       "      <th>x11</th>\n",
       "      <th>x12</th>\n",
       "      <th>x13</th>\n",
       "      <th>x14</th>\n",
       "      <th>x15</th>\n",
       "    </tr>\n",
       "  </thead>\n",
       "  <tbody>\n",
       "    <tr>\n",
       "      <th>0</th>\n",
       "      <td>-1.354412</td>\n",
       "      <td>-0.778111</td>\n",
       "      <td>0.277360</td>\n",
       "      <td>-1.052959</td>\n",
       "      <td>0.995379</td>\n",
       "      <td>-1.685131</td>\n",
       "      <td>-0.274651</td>\n",
       "      <td>-0.368262</td>\n",
       "      <td>1.426017</td>\n",
       "      <td>-0.137437</td>\n",
       "      <td>1.282271</td>\n",
       "      <td>-1.313429</td>\n",
       "      <td>0.198107</td>\n",
       "      <td>-0.291476</td>\n",
       "      <td>1.779128</td>\n",
       "    </tr>\n",
       "    <tr>\n",
       "      <th>1</th>\n",
       "      <td>-0.893994</td>\n",
       "      <td>1.434850</td>\n",
       "      <td>-0.575100</td>\n",
       "      <td>-0.422590</td>\n",
       "      <td>1.202833</td>\n",
       "      <td>3.723812</td>\n",
       "      <td>1.426973</td>\n",
       "      <td>0.829661</td>\n",
       "      <td>1.825528</td>\n",
       "      <td>-1.701793</td>\n",
       "      <td>-2.007739</td>\n",
       "      <td>-1.937469</td>\n",
       "      <td>1.973240</td>\n",
       "      <td>-0.747816</td>\n",
       "      <td>2.610862</td>\n",
       "    </tr>\n",
       "    <tr>\n",
       "      <th>2</th>\n",
       "      <td>0.702469</td>\n",
       "      <td>0.106673</td>\n",
       "      <td>1.698170</td>\n",
       "      <td>2.104765</td>\n",
       "      <td>-2.611727</td>\n",
       "      <td>-0.474952</td>\n",
       "      <td>-0.780744</td>\n",
       "      <td>1.619551</td>\n",
       "      <td>-2.296250</td>\n",
       "      <td>-0.971354</td>\n",
       "      <td>-2.014060</td>\n",
       "      <td>-0.909581</td>\n",
       "      <td>1.900305</td>\n",
       "      <td>-0.489969</td>\n",
       "      <td>1.119055</td>\n",
       "    </tr>\n",
       "    <tr>\n",
       "      <th>3</th>\n",
       "      <td>-0.721873</td>\n",
       "      <td>-0.050413</td>\n",
       "      <td>0.875884</td>\n",
       "      <td>-0.862299</td>\n",
       "      <td>-0.389332</td>\n",
       "      <td>2.105849</td>\n",
       "      <td>-0.213968</td>\n",
       "      <td>0.560721</td>\n",
       "      <td>-0.628700</td>\n",
       "      <td>-2.726141</td>\n",
       "      <td>-0.139814</td>\n",
       "      <td>0.724752</td>\n",
       "      <td>0.491151</td>\n",
       "      <td>-1.037345</td>\n",
       "      <td>0.390548</td>\n",
       "    </tr>\n",
       "    <tr>\n",
       "      <th>4</th>\n",
       "      <td>0.290172</td>\n",
       "      <td>-0.075315</td>\n",
       "      <td>0.599066</td>\n",
       "      <td>0.424368</td>\n",
       "      <td>-1.032638</td>\n",
       "      <td>-0.695552</td>\n",
       "      <td>-1.334943</td>\n",
       "      <td>0.762977</td>\n",
       "      <td>0.342735</td>\n",
       "      <td>-0.794931</td>\n",
       "      <td>0.402846</td>\n",
       "      <td>1.092932</td>\n",
       "      <td>0.825011</td>\n",
       "      <td>0.795162</td>\n",
       "      <td>-0.305411</td>\n",
       "    </tr>\n",
       "  </tbody>\n",
       "</table>\n",
       "</div>"
      ],
      "text/plain": [
       "         x1        x2        x3        x4        x5        x6        x7  \\\n",
       "0 -1.354412 -0.778111  0.277360 -1.052959  0.995379 -1.685131 -0.274651   \n",
       "1 -0.893994  1.434850 -0.575100 -0.422590  1.202833  3.723812  1.426973   \n",
       "2  0.702469  0.106673  1.698170  2.104765 -2.611727 -0.474952 -0.780744   \n",
       "3 -0.721873 -0.050413  0.875884 -0.862299 -0.389332  2.105849 -0.213968   \n",
       "4  0.290172 -0.075315  0.599066  0.424368 -1.032638 -0.695552 -1.334943   \n",
       "\n",
       "         x8        x9       x10       x11       x12       x13       x14  \\\n",
       "0 -0.368262  1.426017 -0.137437  1.282271 -1.313429  0.198107 -0.291476   \n",
       "1  0.829661  1.825528 -1.701793 -2.007739 -1.937469  1.973240 -0.747816   \n",
       "2  1.619551 -2.296250 -0.971354 -2.014060 -0.909581  1.900305 -0.489969   \n",
       "3  0.560721 -0.628700 -2.726141 -0.139814  0.724752  0.491151 -1.037345   \n",
       "4  0.762977  0.342735 -0.794931  0.402846  1.092932  0.825011  0.795162   \n",
       "\n",
       "        x15  \n",
       "0  1.779128  \n",
       "1  2.610862  \n",
       "2  1.119055  \n",
       "3  0.390548  \n",
       "4 -0.305411  "
      ]
     },
     "execution_count": 14,
     "metadata": {},
     "output_type": "execute_result"
    }
   ],
   "source": [
    "xtest.head()"
   ]
  },
  {
   "cell_type": "code",
   "execution_count": 16,
   "id": "57cef071",
   "metadata": {},
   "outputs": [],
   "source": [
    "from keras.models import Sequential\n",
    "from keras.layers import Dense, Dropout\n",
    "from keras.callbacks import EarlyStopping"
   ]
  },
  {
   "cell_type": "code",
   "execution_count": 17,
   "id": "882e1ce1",
   "metadata": {},
   "outputs": [],
   "source": [
    "model = Sequential()\n",
    "model.add(Dense(64,input_dim=xtrain.shape[1],activation='relu'))\n",
    "model.add(Dropout(0.2))\n",
    "model.add(Dense(32,activation='relu'))\n",
    "model.add(Dropout(0.2))\n",
    "model.add(Dense(3,activation='softmax'))"
   ]
  },
  {
   "cell_type": "code",
   "execution_count": 18,
   "id": "7176627e",
   "metadata": {},
   "outputs": [],
   "source": [
    "early_stop = EarlyStopping(monitor='val_loss', patience=10)"
   ]
  },
  {
   "cell_type": "code",
   "execution_count": 19,
   "id": "a07e4400",
   "metadata": {},
   "outputs": [],
   "source": [
    "model.compile(loss='categorical_crossentropy',optimizer='adam',metrics=['accuracy'])"
   ]
  },
  {
   "cell_type": "code",
   "execution_count": 20,
   "id": "3eb70045",
   "metadata": {},
   "outputs": [
    {
     "name": "stdout",
     "output_type": "stream",
     "text": [
      "Model: \"sequential\"\n",
      "_________________________________________________________________\n",
      " Layer (type)                Output Shape              Param #   \n",
      "=================================================================\n",
      " dense (Dense)               (None, 64)                1024      \n",
      "                                                                 \n",
      " dropout (Dropout)           (None, 64)                0         \n",
      "                                                                 \n",
      " dense_1 (Dense)             (None, 32)                2080      \n",
      "                                                                 \n",
      " dropout_1 (Dropout)         (None, 32)                0         \n",
      "                                                                 \n",
      " dense_2 (Dense)             (None, 3)                 99        \n",
      "                                                                 \n",
      "=================================================================\n",
      "Total params: 3203 (12.51 KB)\n",
      "Trainable params: 3203 (12.51 KB)\n",
      "Non-trainable params: 0 (0.00 Byte)\n",
      "_________________________________________________________________\n"
     ]
    }
   ],
   "source": [
    "model.summary()"
   ]
  },
  {
   "cell_type": "code",
   "execution_count": 21,
   "id": "975d257e",
   "metadata": {
    "scrolled": false
   },
   "outputs": [
    {
     "name": "stdout",
     "output_type": "stream",
     "text": [
      "Epoch 1/200\n",
      "10/10 [==============================] - 1s 30ms/step - loss: 1.2101 - accuracy: 0.3234 - val_loss: 1.1092 - val_accuracy: 0.3562\n",
      "Epoch 2/200\n",
      "10/10 [==============================] - 0s 6ms/step - loss: 1.1013 - accuracy: 0.4016 - val_loss: 1.0216 - val_accuracy: 0.4437\n",
      "Epoch 3/200\n",
      "10/10 [==============================] - 0s 5ms/step - loss: 1.0055 - accuracy: 0.4922 - val_loss: 0.9617 - val_accuracy: 0.5500\n",
      "Epoch 4/200\n",
      "10/10 [==============================] - 0s 8ms/step - loss: 0.9524 - accuracy: 0.5562 - val_loss: 0.9109 - val_accuracy: 0.6375\n",
      "Epoch 5/200\n",
      "10/10 [==============================] - 0s 5ms/step - loss: 0.9301 - accuracy: 0.5781 - val_loss: 0.8668 - val_accuracy: 0.6938\n",
      "Epoch 6/200\n",
      "10/10 [==============================] - 0s 5ms/step - loss: 0.8649 - accuracy: 0.6172 - val_loss: 0.8238 - val_accuracy: 0.7063\n",
      "Epoch 7/200\n",
      "10/10 [==============================] - 0s 5ms/step - loss: 0.8257 - accuracy: 0.6453 - val_loss: 0.7838 - val_accuracy: 0.7312\n",
      "Epoch 8/200\n",
      "10/10 [==============================] - 0s 5ms/step - loss: 0.7883 - accuracy: 0.6625 - val_loss: 0.7493 - val_accuracy: 0.7563\n",
      "Epoch 9/200\n",
      "10/10 [==============================] - 0s 6ms/step - loss: 0.7745 - accuracy: 0.6766 - val_loss: 0.7148 - val_accuracy: 0.7688\n",
      "Epoch 10/200\n",
      "10/10 [==============================] - 0s 6ms/step - loss: 0.7553 - accuracy: 0.6938 - val_loss: 0.6863 - val_accuracy: 0.7812\n",
      "Epoch 11/200\n",
      "10/10 [==============================] - 0s 5ms/step - loss: 0.7368 - accuracy: 0.6984 - val_loss: 0.6590 - val_accuracy: 0.7750\n",
      "Epoch 12/200\n",
      "10/10 [==============================] - 0s 5ms/step - loss: 0.7170 - accuracy: 0.6984 - val_loss: 0.6351 - val_accuracy: 0.7937\n",
      "Epoch 13/200\n",
      "10/10 [==============================] - 0s 5ms/step - loss: 0.6925 - accuracy: 0.7125 - val_loss: 0.6157 - val_accuracy: 0.7875\n",
      "Epoch 14/200\n",
      "10/10 [==============================] - 0s 6ms/step - loss: 0.6537 - accuracy: 0.7469 - val_loss: 0.6008 - val_accuracy: 0.7688\n",
      "Epoch 15/200\n",
      "10/10 [==============================] - 0s 5ms/step - loss: 0.6541 - accuracy: 0.7234 - val_loss: 0.5863 - val_accuracy: 0.7812\n",
      "Epoch 16/200\n",
      "10/10 [==============================] - 0s 5ms/step - loss: 0.6119 - accuracy: 0.7563 - val_loss: 0.5718 - val_accuracy: 0.7875\n",
      "Epoch 17/200\n",
      "10/10 [==============================] - 0s 5ms/step - loss: 0.6077 - accuracy: 0.7516 - val_loss: 0.5564 - val_accuracy: 0.7812\n",
      "Epoch 18/200\n",
      "10/10 [==============================] - 0s 5ms/step - loss: 0.5913 - accuracy: 0.7672 - val_loss: 0.5438 - val_accuracy: 0.7875\n",
      "Epoch 19/200\n",
      "10/10 [==============================] - 0s 5ms/step - loss: 0.5907 - accuracy: 0.7625 - val_loss: 0.5319 - val_accuracy: 0.7875\n",
      "Epoch 20/200\n",
      "10/10 [==============================] - 0s 5ms/step - loss: 0.5760 - accuracy: 0.7812 - val_loss: 0.5197 - val_accuracy: 0.7937\n",
      "Epoch 21/200\n",
      "10/10 [==============================] - 0s 6ms/step - loss: 0.5467 - accuracy: 0.7984 - val_loss: 0.5099 - val_accuracy: 0.7875\n",
      "Epoch 22/200\n",
      "10/10 [==============================] - 0s 6ms/step - loss: 0.5220 - accuracy: 0.7984 - val_loss: 0.5019 - val_accuracy: 0.7937\n",
      "Epoch 23/200\n",
      "10/10 [==============================] - 0s 6ms/step - loss: 0.5439 - accuracy: 0.7891 - val_loss: 0.4924 - val_accuracy: 0.8000\n",
      "Epoch 24/200\n",
      "10/10 [==============================] - 0s 7ms/step - loss: 0.5415 - accuracy: 0.7828 - val_loss: 0.4840 - val_accuracy: 0.8000\n",
      "Epoch 25/200\n",
      "10/10 [==============================] - 0s 6ms/step - loss: 0.5218 - accuracy: 0.7891 - val_loss: 0.4773 - val_accuracy: 0.8125\n",
      "Epoch 26/200\n",
      "10/10 [==============================] - 0s 6ms/step - loss: 0.4809 - accuracy: 0.8141 - val_loss: 0.4730 - val_accuracy: 0.8125\n",
      "Epoch 27/200\n",
      "10/10 [==============================] - 0s 6ms/step - loss: 0.4963 - accuracy: 0.8172 - val_loss: 0.4658 - val_accuracy: 0.8188\n",
      "Epoch 28/200\n",
      "10/10 [==============================] - 0s 6ms/step - loss: 0.4743 - accuracy: 0.8203 - val_loss: 0.4597 - val_accuracy: 0.8188\n",
      "Epoch 29/200\n",
      "10/10 [==============================] - 0s 6ms/step - loss: 0.4870 - accuracy: 0.7781 - val_loss: 0.4531 - val_accuracy: 0.8188\n",
      "Epoch 30/200\n",
      "10/10 [==============================] - 0s 6ms/step - loss: 0.4680 - accuracy: 0.8281 - val_loss: 0.4470 - val_accuracy: 0.8250\n",
      "Epoch 31/200\n",
      "10/10 [==============================] - 0s 6ms/step - loss: 0.4901 - accuracy: 0.7984 - val_loss: 0.4496 - val_accuracy: 0.8188\n",
      "Epoch 32/200\n",
      "10/10 [==============================] - 0s 6ms/step - loss: 0.4515 - accuracy: 0.8234 - val_loss: 0.4434 - val_accuracy: 0.8375\n",
      "Epoch 33/200\n",
      "10/10 [==============================] - 0s 6ms/step - loss: 0.4405 - accuracy: 0.8359 - val_loss: 0.4382 - val_accuracy: 0.8375\n",
      "Epoch 34/200\n",
      "10/10 [==============================] - 0s 6ms/step - loss: 0.4642 - accuracy: 0.8203 - val_loss: 0.4283 - val_accuracy: 0.8375\n",
      "Epoch 35/200\n",
      "10/10 [==============================] - 0s 6ms/step - loss: 0.4404 - accuracy: 0.8484 - val_loss: 0.4268 - val_accuracy: 0.8438\n",
      "Epoch 36/200\n",
      "10/10 [==============================] - 0s 7ms/step - loss: 0.4481 - accuracy: 0.8344 - val_loss: 0.4217 - val_accuracy: 0.8562\n",
      "Epoch 37/200\n",
      "10/10 [==============================] - 0s 6ms/step - loss: 0.4467 - accuracy: 0.8328 - val_loss: 0.4147 - val_accuracy: 0.8562\n",
      "Epoch 38/200\n",
      "10/10 [==============================] - 0s 7ms/step - loss: 0.3892 - accuracy: 0.8531 - val_loss: 0.4112 - val_accuracy: 0.8625\n",
      "Epoch 39/200\n",
      "10/10 [==============================] - 0s 6ms/step - loss: 0.4209 - accuracy: 0.8469 - val_loss: 0.4088 - val_accuracy: 0.8625\n",
      "Epoch 40/200\n",
      "10/10 [==============================] - 0s 6ms/step - loss: 0.4059 - accuracy: 0.8359 - val_loss: 0.4088 - val_accuracy: 0.8687\n",
      "Epoch 41/200\n",
      "10/10 [==============================] - 0s 6ms/step - loss: 0.3943 - accuracy: 0.8562 - val_loss: 0.4039 - val_accuracy: 0.8625\n",
      "Epoch 42/200\n",
      "10/10 [==============================] - 0s 6ms/step - loss: 0.3837 - accuracy: 0.8609 - val_loss: 0.3998 - val_accuracy: 0.8562\n",
      "Epoch 43/200\n",
      "10/10 [==============================] - 0s 7ms/step - loss: 0.3711 - accuracy: 0.8500 - val_loss: 0.3972 - val_accuracy: 0.8562\n",
      "Epoch 44/200\n",
      "10/10 [==============================] - 0s 6ms/step - loss: 0.3894 - accuracy: 0.8484 - val_loss: 0.3908 - val_accuracy: 0.8625\n",
      "Epoch 45/200\n",
      "10/10 [==============================] - 0s 6ms/step - loss: 0.3726 - accuracy: 0.8625 - val_loss: 0.3877 - val_accuracy: 0.8687\n",
      "Epoch 46/200\n",
      "10/10 [==============================] - 0s 6ms/step - loss: 0.3764 - accuracy: 0.8578 - val_loss: 0.3886 - val_accuracy: 0.8625\n",
      "Epoch 47/200\n",
      "10/10 [==============================] - 0s 6ms/step - loss: 0.3449 - accuracy: 0.8750 - val_loss: 0.3886 - val_accuracy: 0.8625\n",
      "Epoch 48/200\n",
      "10/10 [==============================] - 0s 7ms/step - loss: 0.3514 - accuracy: 0.8641 - val_loss: 0.3873 - val_accuracy: 0.8625\n",
      "Epoch 49/200\n",
      "10/10 [==============================] - 0s 7ms/step - loss: 0.3657 - accuracy: 0.8672 - val_loss: 0.3821 - val_accuracy: 0.8687\n",
      "Epoch 50/200\n",
      "10/10 [==============================] - 0s 6ms/step - loss: 0.3643 - accuracy: 0.8625 - val_loss: 0.3816 - val_accuracy: 0.8687\n",
      "Epoch 51/200\n",
      "10/10 [==============================] - 0s 6ms/step - loss: 0.3780 - accuracy: 0.8594 - val_loss: 0.3753 - val_accuracy: 0.8750\n",
      "Epoch 52/200\n",
      "10/10 [==============================] - 0s 6ms/step - loss: 0.3473 - accuracy: 0.8719 - val_loss: 0.3728 - val_accuracy: 0.8750\n",
      "Epoch 53/200\n",
      "10/10 [==============================] - 0s 6ms/step - loss: 0.3496 - accuracy: 0.8703 - val_loss: 0.3754 - val_accuracy: 0.8562\n",
      "Epoch 54/200\n",
      "10/10 [==============================] - 0s 6ms/step - loss: 0.3372 - accuracy: 0.8766 - val_loss: 0.3720 - val_accuracy: 0.8625\n",
      "Epoch 55/200\n",
      "10/10 [==============================] - 0s 6ms/step - loss: 0.3487 - accuracy: 0.8547 - val_loss: 0.3689 - val_accuracy: 0.8750\n",
      "Epoch 56/200\n",
      "10/10 [==============================] - 0s 6ms/step - loss: 0.3433 - accuracy: 0.8844 - val_loss: 0.3626 - val_accuracy: 0.8813\n",
      "Epoch 57/200\n",
      "10/10 [==============================] - 0s 6ms/step - loss: 0.3198 - accuracy: 0.8734 - val_loss: 0.3663 - val_accuracy: 0.8750\n",
      "Epoch 58/200\n",
      "10/10 [==============================] - 0s 6ms/step - loss: 0.3237 - accuracy: 0.8766 - val_loss: 0.3663 - val_accuracy: 0.8687\n",
      "Epoch 59/200\n",
      "10/10 [==============================] - 0s 6ms/step - loss: 0.3140 - accuracy: 0.8813 - val_loss: 0.3636 - val_accuracy: 0.8750\n",
      "Epoch 60/200\n",
      "10/10 [==============================] - 0s 6ms/step - loss: 0.3223 - accuracy: 0.8859 - val_loss: 0.3614 - val_accuracy: 0.8750\n",
      "Epoch 61/200\n",
      "10/10 [==============================] - 0s 7ms/step - loss: 0.3129 - accuracy: 0.8766 - val_loss: 0.3575 - val_accuracy: 0.8750\n",
      "Epoch 62/200\n",
      "10/10 [==============================] - 0s 6ms/step - loss: 0.2973 - accuracy: 0.8797 - val_loss: 0.3596 - val_accuracy: 0.8750\n",
      "Epoch 63/200\n",
      "10/10 [==============================] - 0s 5ms/step - loss: 0.2885 - accuracy: 0.8859 - val_loss: 0.3554 - val_accuracy: 0.8750\n",
      "Epoch 64/200\n",
      "10/10 [==============================] - 0s 6ms/step - loss: 0.3100 - accuracy: 0.8781 - val_loss: 0.3597 - val_accuracy: 0.8750\n",
      "Epoch 65/200\n",
      "10/10 [==============================] - 0s 6ms/step - loss: 0.3041 - accuracy: 0.8953 - val_loss: 0.3590 - val_accuracy: 0.8750\n",
      "Epoch 66/200\n",
      "10/10 [==============================] - 0s 6ms/step - loss: 0.2935 - accuracy: 0.8922 - val_loss: 0.3506 - val_accuracy: 0.8687\n",
      "Epoch 67/200\n",
      "10/10 [==============================] - 0s 6ms/step - loss: 0.3022 - accuracy: 0.8891 - val_loss: 0.3450 - val_accuracy: 0.8750\n",
      "Epoch 68/200\n",
      "10/10 [==============================] - 0s 7ms/step - loss: 0.2893 - accuracy: 0.8953 - val_loss: 0.3438 - val_accuracy: 0.8687\n",
      "Epoch 69/200\n",
      "10/10 [==============================] - 0s 6ms/step - loss: 0.2993 - accuracy: 0.8859 - val_loss: 0.3450 - val_accuracy: 0.8750\n",
      "Epoch 70/200\n",
      "10/10 [==============================] - 0s 7ms/step - loss: 0.2734 - accuracy: 0.8906 - val_loss: 0.3420 - val_accuracy: 0.8813\n",
      "Epoch 71/200\n",
      "10/10 [==============================] - 0s 7ms/step - loss: 0.3010 - accuracy: 0.8938 - val_loss: 0.3429 - val_accuracy: 0.8750\n",
      "Epoch 72/200\n",
      "10/10 [==============================] - 0s 6ms/step - loss: 0.2930 - accuracy: 0.8891 - val_loss: 0.3419 - val_accuracy: 0.8813\n",
      "Epoch 73/200\n",
      "10/10 [==============================] - 0s 6ms/step - loss: 0.2817 - accuracy: 0.8875 - val_loss: 0.3440 - val_accuracy: 0.8750\n",
      "Epoch 74/200\n",
      "10/10 [==============================] - 0s 6ms/step - loss: 0.2680 - accuracy: 0.9000 - val_loss: 0.3444 - val_accuracy: 0.8750\n",
      "Epoch 75/200\n",
      "10/10 [==============================] - 0s 5ms/step - loss: 0.2805 - accuracy: 0.8969 - val_loss: 0.3494 - val_accuracy: 0.8687\n",
      "Epoch 76/200\n",
      "10/10 [==============================] - 0s 5ms/step - loss: 0.2716 - accuracy: 0.9062 - val_loss: 0.3501 - val_accuracy: 0.8687\n",
      "Epoch 77/200\n",
      "10/10 [==============================] - 0s 5ms/step - loss: 0.2708 - accuracy: 0.8859 - val_loss: 0.3427 - val_accuracy: 0.8687\n",
      "Epoch 78/200\n",
      "10/10 [==============================] - 0s 5ms/step - loss: 0.2615 - accuracy: 0.8969 - val_loss: 0.3377 - val_accuracy: 0.8687\n",
      "Epoch 79/200\n",
      "10/10 [==============================] - 0s 5ms/step - loss: 0.2995 - accuracy: 0.8844 - val_loss: 0.3387 - val_accuracy: 0.8687\n",
      "Epoch 80/200\n",
      "10/10 [==============================] - 0s 6ms/step - loss: 0.2417 - accuracy: 0.9156 - val_loss: 0.3387 - val_accuracy: 0.8687\n",
      "Epoch 81/200\n",
      "10/10 [==============================] - 0s 6ms/step - loss: 0.2605 - accuracy: 0.9109 - val_loss: 0.3441 - val_accuracy: 0.8687\n",
      "Epoch 82/200\n",
      "10/10 [==============================] - 0s 6ms/step - loss: 0.2804 - accuracy: 0.8969 - val_loss: 0.3351 - val_accuracy: 0.8687\n",
      "Epoch 83/200\n",
      "10/10 [==============================] - 0s 7ms/step - loss: 0.2487 - accuracy: 0.9062 - val_loss: 0.3283 - val_accuracy: 0.8750\n",
      "Epoch 84/200\n",
      "10/10 [==============================] - 0s 6ms/step - loss: 0.2415 - accuracy: 0.9078 - val_loss: 0.3337 - val_accuracy: 0.8875\n",
      "Epoch 85/200\n",
      "10/10 [==============================] - 0s 5ms/step - loss: 0.2505 - accuracy: 0.9125 - val_loss: 0.3357 - val_accuracy: 0.8813\n",
      "Epoch 86/200\n",
      "10/10 [==============================] - 0s 5ms/step - loss: 0.2669 - accuracy: 0.9078 - val_loss: 0.3345 - val_accuracy: 0.8813\n",
      "Epoch 87/200\n",
      "10/10 [==============================] - 0s 5ms/step - loss: 0.2897 - accuracy: 0.8813 - val_loss: 0.3368 - val_accuracy: 0.8750\n",
      "Epoch 88/200\n",
      "10/10 [==============================] - 0s 5ms/step - loss: 0.2355 - accuracy: 0.9062 - val_loss: 0.3365 - val_accuracy: 0.8750\n",
      "Epoch 89/200\n",
      "10/10 [==============================] - 0s 5ms/step - loss: 0.2431 - accuracy: 0.9109 - val_loss: 0.3306 - val_accuracy: 0.8750\n",
      "Epoch 90/200\n",
      "10/10 [==============================] - 0s 5ms/step - loss: 0.2392 - accuracy: 0.9062 - val_loss: 0.3234 - val_accuracy: 0.8875\n",
      "Epoch 91/200\n",
      "10/10 [==============================] - 0s 5ms/step - loss: 0.2559 - accuracy: 0.8938 - val_loss: 0.3231 - val_accuracy: 0.8750\n",
      "Epoch 92/200\n",
      "10/10 [==============================] - 0s 5ms/step - loss: 0.2306 - accuracy: 0.9156 - val_loss: 0.3246 - val_accuracy: 0.8750\n",
      "Epoch 93/200\n",
      "10/10 [==============================] - 0s 5ms/step - loss: 0.2598 - accuracy: 0.9109 - val_loss: 0.3221 - val_accuracy: 0.8938\n",
      "Epoch 94/200\n",
      "10/10 [==============================] - 0s 5ms/step - loss: 0.2442 - accuracy: 0.9141 - val_loss: 0.3174 - val_accuracy: 0.8938\n",
      "Epoch 95/200\n",
      "10/10 [==============================] - 0s 5ms/step - loss: 0.2367 - accuracy: 0.9031 - val_loss: 0.3165 - val_accuracy: 0.8813\n",
      "Epoch 96/200\n",
      "10/10 [==============================] - 0s 5ms/step - loss: 0.2121 - accuracy: 0.9250 - val_loss: 0.3172 - val_accuracy: 0.8875\n",
      "Epoch 97/200\n",
      "10/10 [==============================] - 0s 5ms/step - loss: 0.2205 - accuracy: 0.9266 - val_loss: 0.3182 - val_accuracy: 0.8875\n",
      "Epoch 98/200\n",
      "10/10 [==============================] - 0s 5ms/step - loss: 0.2360 - accuracy: 0.9187 - val_loss: 0.3236 - val_accuracy: 0.8750\n",
      "Epoch 99/200\n",
      "10/10 [==============================] - 0s 5ms/step - loss: 0.2183 - accuracy: 0.9219 - val_loss: 0.3228 - val_accuracy: 0.8625\n",
      "Epoch 100/200\n",
      "10/10 [==============================] - 0s 5ms/step - loss: 0.2193 - accuracy: 0.9172 - val_loss: 0.3210 - val_accuracy: 0.8750\n",
      "Epoch 101/200\n",
      "10/10 [==============================] - 0s 5ms/step - loss: 0.2294 - accuracy: 0.9156 - val_loss: 0.3142 - val_accuracy: 0.8687\n",
      "Epoch 102/200\n",
      "10/10 [==============================] - 0s 5ms/step - loss: 0.2287 - accuracy: 0.9281 - val_loss: 0.3108 - val_accuracy: 0.8813\n",
      "Epoch 103/200\n",
      "10/10 [==============================] - 0s 5ms/step - loss: 0.2289 - accuracy: 0.9234 - val_loss: 0.3175 - val_accuracy: 0.8750\n",
      "Epoch 104/200\n",
      "10/10 [==============================] - 0s 5ms/step - loss: 0.2248 - accuracy: 0.9125 - val_loss: 0.3169 - val_accuracy: 0.8750\n",
      "Epoch 105/200\n",
      "10/10 [==============================] - 0s 5ms/step - loss: 0.2040 - accuracy: 0.9406 - val_loss: 0.3171 - val_accuracy: 0.8750\n",
      "Epoch 106/200\n",
      "10/10 [==============================] - 0s 5ms/step - loss: 0.2157 - accuracy: 0.9203 - val_loss: 0.3140 - val_accuracy: 0.8750\n",
      "Epoch 107/200\n",
      "10/10 [==============================] - 0s 5ms/step - loss: 0.2219 - accuracy: 0.9266 - val_loss: 0.3083 - val_accuracy: 0.8813\n",
      "Epoch 108/200\n",
      "10/10 [==============================] - 0s 5ms/step - loss: 0.2168 - accuracy: 0.9266 - val_loss: 0.3110 - val_accuracy: 0.8875\n",
      "Epoch 109/200\n",
      "10/10 [==============================] - 0s 5ms/step - loss: 0.2257 - accuracy: 0.9187 - val_loss: 0.3106 - val_accuracy: 0.8875\n",
      "Epoch 110/200\n",
      "10/10 [==============================] - 0s 5ms/step - loss: 0.2090 - accuracy: 0.9172 - val_loss: 0.3095 - val_accuracy: 0.8875\n",
      "Epoch 111/200\n",
      "10/10 [==============================] - 0s 5ms/step - loss: 0.2115 - accuracy: 0.9172 - val_loss: 0.3141 - val_accuracy: 0.8875\n",
      "Epoch 112/200\n",
      "10/10 [==============================] - 0s 5ms/step - loss: 0.1980 - accuracy: 0.9406 - val_loss: 0.3162 - val_accuracy: 0.8875\n",
      "Epoch 113/200\n",
      "10/10 [==============================] - 0s 5ms/step - loss: 0.2345 - accuracy: 0.9078 - val_loss: 0.3215 - val_accuracy: 0.8813\n",
      "Epoch 114/200\n",
      "10/10 [==============================] - 0s 5ms/step - loss: 0.1972 - accuracy: 0.9328 - val_loss: 0.3188 - val_accuracy: 0.8875\n",
      "Epoch 115/200\n",
      "10/10 [==============================] - 0s 5ms/step - loss: 0.2066 - accuracy: 0.9234 - val_loss: 0.3142 - val_accuracy: 0.8875\n",
      "Epoch 116/200\n",
      "10/10 [==============================] - 0s 5ms/step - loss: 0.1947 - accuracy: 0.9391 - val_loss: 0.3087 - val_accuracy: 0.8938\n",
      "Epoch 117/200\n",
      "10/10 [==============================] - 0s 6ms/step - loss: 0.2101 - accuracy: 0.9234 - val_loss: 0.3005 - val_accuracy: 0.9000\n",
      "Epoch 118/200\n",
      "10/10 [==============================] - 0s 5ms/step - loss: 0.1685 - accuracy: 0.9453 - val_loss: 0.3070 - val_accuracy: 0.8875\n",
      "Epoch 119/200\n",
      "10/10 [==============================] - 0s 5ms/step - loss: 0.2106 - accuracy: 0.9281 - val_loss: 0.3126 - val_accuracy: 0.8750\n",
      "Epoch 120/200\n",
      "10/10 [==============================] - 0s 6ms/step - loss: 0.1948 - accuracy: 0.9406 - val_loss: 0.3115 - val_accuracy: 0.8750\n",
      "Epoch 121/200\n",
      "10/10 [==============================] - 0s 5ms/step - loss: 0.1848 - accuracy: 0.9328 - val_loss: 0.3049 - val_accuracy: 0.8813\n",
      "Epoch 122/200\n",
      "10/10 [==============================] - 0s 5ms/step - loss: 0.1926 - accuracy: 0.9328 - val_loss: 0.3044 - val_accuracy: 0.8938\n",
      "Epoch 123/200\n",
      "10/10 [==============================] - 0s 5ms/step - loss: 0.1887 - accuracy: 0.9312 - val_loss: 0.3030 - val_accuracy: 0.8875\n",
      "Epoch 124/200\n",
      "10/10 [==============================] - 0s 5ms/step - loss: 0.2221 - accuracy: 0.9219 - val_loss: 0.3057 - val_accuracy: 0.8875\n",
      "Epoch 125/200\n",
      "10/10 [==============================] - 0s 5ms/step - loss: 0.1860 - accuracy: 0.9453 - val_loss: 0.3087 - val_accuracy: 0.8938\n",
      "Epoch 126/200\n",
      "10/10 [==============================] - 0s 5ms/step - loss: 0.1795 - accuracy: 0.9344 - val_loss: 0.3048 - val_accuracy: 0.8938\n",
      "Epoch 127/200\n",
      "10/10 [==============================] - 0s 5ms/step - loss: 0.1917 - accuracy: 0.9187 - val_loss: 0.3057 - val_accuracy: 0.8938\n"
     ]
    }
   ],
   "source": [
    "hist = model.fit(xtrain,ytrain,validation_split=0.2,epochs=200,callbacks=[early_stop], batch_size=64)"
   ]
  },
  {
   "cell_type": "code",
   "execution_count": 22,
   "id": "6d7a9355",
   "metadata": {},
   "outputs": [
    {
     "data": {
      "image/png": "[encoded data removed]",
      "text/plain": [
       "<Figure size 1600x800 with 1 Axes>"
      ]
     },
     "metadata": {},
     "output_type": "display_data"
    }
   ],
   "source": [
    "import matplotlib.pyplot as plt\n",
    "plt.figure(figsize=(16,8))\n",
    "plt.plot(hist.history['loss'],label='training loss')\n",
    "plt.plot(hist.history['val_loss'],label='validation loss')\n",
    "plt.title('Learning Curve')\n",
    "plt.xlabel('Epochs')\n",
    "plt.ylabel('Cateogorical Cross Entropy')\n",
    "plt.show()"
   ]
  },
  {
   "cell_type": "code",
   "execution_count": 23,
   "id": "2337213b",
   "metadata": {},
   "outputs": [
    {
     "name": "stdout",
     "output_type": "stream",
     "text": [
      "25/25 [==============================] - 0s 2ms/step - loss: 0.1335 - accuracy: 0.9650\n"
     ]
    },
    {
     "data": {
      "text/plain": [
       "[0.13352228701114655, 0.9649999737739563]"
      ]
     },
     "execution_count": 23,
     "metadata": {},
     "output_type": "execute_result"
    }
   ],
   "source": [
    "model.evaluate(xtrain,ytrain)"
   ]
  },
  {
   "cell_type": "code",
   "execution_count": 24,
   "id": "eabe51bd",
   "metadata": {},
   "outputs": [
    {
     "name": "stdout",
     "output_type": "stream",
     "text": [
      "7/7 [==============================] - 0s 2ms/step - loss: 0.2597 - accuracy: 0.9050\n"
     ]
    },
    {
     "data": {
      "text/plain": [
       "[0.2597249746322632, 0.9049999713897705]"
      ]
     },
     "execution_count": 24,
     "metadata": {},
     "output_type": "execute_result"
    }
   ],
   "source": [
    "model.evaluate(xtest,ytest)"
   ]
  },
  {
   "cell_type": "code",
   "execution_count": 25,
   "id": "8b26b758",
   "metadata": {},
   "outputs": [
    {
     "name": "stdout",
     "output_type": "stream",
     "text": [
      "25/25 [==============================] - 0s 1ms/step\n",
      "7/7 [==============================] - 0s 1ms/step\n"
     ]
    }
   ],
   "source": [
    "tr_pred = model.predict(xtrain)\n",
    "ts_pred = model.predict(xtest)"
   ]
  },
  {
   "cell_type": "code",
   "execution_count": 26,
   "id": "021e0a03",
   "metadata": {},
   "outputs": [
    {
     "data": {
      "text/plain": [
       "array([2, 2, 2, 1, 2, 1, 2, 0, 1, 2, 2, 1, 0, 1, 2, 0, 1, 0, 2, 1, 2, 1,\n",
       "       0, 2, 2, 2, 2, 1, 0, 1, 1, 0, 1, 2, 1, 1, 1, 0, 1, 1, 1, 0, 2, 0,\n",
       "       1, 1, 2, 2, 0, 0, 2, 0, 0, 2, 2, 1, 2, 2, 0, 2, 2, 2, 0, 2, 1, 0,\n",
       "       0, 0, 2, 2, 1, 0, 1, 0, 1, 2, 1, 2, 0, 1, 1, 0, 2, 1, 1, 2, 1, 0,\n",
       "       2, 2, 2, 2, 0, 1, 1, 0, 1, 1, 1, 2, 0, 0, 1, 1, 0, 0, 0, 2, 0, 1,\n",
       "       0, 1, 2, 1, 1, 0, 2, 0, 2, 1, 0, 0, 0, 1, 1, 2, 1, 1, 0, 0, 1, 1,\n",
       "       2, 0, 0, 2, 1, 0, 1, 2, 0, 1, 0, 2, 0, 1, 1, 2, 1, 0, 2, 0, 2, 1,\n",
       "       2, 2, 1, 2, 0, 1, 0, 1, 2, 1, 0, 1, 2, 2, 0, 0, 1, 0, 2, 1, 1, 0,\n",
       "       0, 2, 1, 1, 0, 0, 0, 0, 1, 2, 2, 2, 0, 0, 0, 2, 1, 1, 0, 2, 0, 2,\n",
       "       2, 1], dtype=int64)"
      ]
     },
     "execution_count": 26,
     "metadata": {},
     "output_type": "execute_result"
    }
   ],
   "source": [
    "import numpy as np\n",
    "ts_pred_classes = np.argmax(ts_pred, axis=-1)\n",
    "ts_pred_classes"
   ]
  },
  {
   "cell_type": "code",
   "execution_count": 27,
   "id": "8a5e680e",
   "metadata": {},
   "outputs": [
    {
     "data": {
      "text/plain": [
       "array([2, 2, 2, 1, 2, 1, 2, 0, 1, 0, 2, 1, 1, 1, 2, 0, 1, 0, 2, 0, 2, 1,\n",
       "       0, 2, 2, 2, 2, 2, 0, 1, 1, 0, 1, 2, 1, 1, 1, 2, 1, 1, 1, 0, 2, 0,\n",
       "       1, 1, 2, 2, 0, 0, 2, 0, 0, 2, 2, 0, 2, 2, 0, 2, 2, 2, 0, 2, 1, 1,\n",
       "       0, 0, 2, 2, 1, 2, 1, 0, 1, 2, 1, 2, 0, 1, 1, 0, 2, 1, 1, 0, 1, 0,\n",
       "       2, 2, 2, 2, 0, 1, 1, 0, 1, 1, 1, 2, 0, 1, 1, 1, 0, 0, 0, 2, 2, 1,\n",
       "       0, 1, 2, 1, 1, 0, 2, 0, 2, 1, 0, 0, 0, 1, 1, 2, 1, 1, 0, 0, 1, 1,\n",
       "       2, 2, 0, 2, 1, 0, 0, 2, 1, 1, 0, 2, 0, 1, 2, 2, 1, 0, 1, 0, 2, 1,\n",
       "       2, 2, 1, 2, 0, 1, 0, 1, 2, 1, 0, 1, 2, 1, 0, 0, 1, 0, 2, 1, 1, 0,\n",
       "       0, 2, 1, 1, 0, 0, 0, 0, 1, 2, 2, 2, 0, 0, 0, 0, 1, 1, 0, 0, 0, 2,\n",
       "       2, 1], dtype=int64)"
      ]
     },
     "execution_count": 27,
     "metadata": {},
     "output_type": "execute_result"
    }
   ],
   "source": [
    "ytest_classes = np.argmax(ytest,axis=1)\n",
    "ytest_classes"
   ]
  },
  {
   "cell_type": "code",
   "execution_count": 32,
   "id": "b4d7c42c",
   "metadata": {},
   "outputs": [
    {
     "data": {
      "text/plain": [
       "0.905"
      ]
     },
     "execution_count": 32,
     "metadata": {},
     "output_type": "execute_result"
    }
   ],
   "source": [
    "from sklearn.metrics import accuracy_score\n",
    "accuracy_score(ytest_classes, ts_pred_classes)"
   ]
  },
  {
   "cell_type": "code",
   "execution_count": 33,
   "id": "00ee5019",
   "metadata": {},
   "outputs": [
    {
     "data": {
      "text/plain": [
       "array([[57,  3,  4],\n",
       "       [ 4, 65,  2],\n",
       "       [ 4,  2, 59]], dtype=int64)"
      ]
     },
     "execution_count": 33,
     "metadata": {},
     "output_type": "execute_result"
    }
   ],
   "source": [
    "from sklearn.metrics import confusion_matrix\n",
    "cf =  confusion_matrix(ytest_classes, ts_pred_classes)\n",
    "cf"
   ]
  },
  {
   "cell_type": "code",
   "execution_count": 34,
   "id": "5923f3f0",
   "metadata": {},
   "outputs": [
    {
     "data": {
      "text/plain": [
       "<AxesSubplot:>"
      ]
     },
     "execution_count": 34,
     "metadata": {},
     "output_type": "execute_result"
    },
    {
     "data": {
      "image/png": "[encoded data removed]",
      "text/plain": [
       "<Figure size 640x480 with 2 Axes>"
      ]
     },
     "metadata": {},
     "output_type": "display_data"
    }
   ],
   "source": [
    "import seaborn as sb\n",
    "sb.heatmap(cf,annot=True,fmt=\"d\")"
   ]
  },
  {
   "cell_type": "code",
   "execution_count": 35,
   "id": "bb70612b",
   "metadata": {},
   "outputs": [
    {
     "name": "stdout",
     "output_type": "stream",
     "text": [
      "              precision    recall  f1-score   support\n",
      "\n",
      "           0       0.88      0.89      0.88        64\n",
      "           1       0.93      0.92      0.92        71\n",
      "           2       0.91      0.91      0.91        65\n",
      "\n",
      "    accuracy                           0.91       200\n",
      "   macro avg       0.90      0.90      0.90       200\n",
      "weighted avg       0.91      0.91      0.91       200\n",
      "\n"
     ]
    }
   ],
   "source": [
    "from sklearn.metrics import classification_report\n",
    "print(classification_report(ytest_classes,ts_pred_classes))"
   ]
  },
  {
   "cell_type": "code",
   "execution_count": null,
   "id": "77717fd8",
   "metadata": {},
   "outputs": [],
   "source": []
  }
 ],
 "metadata": {
  "kernelspec": {
   "display_name": "Python 3 (ipykernel)",
   "language": "python",
   "name": "python3"
  },
  "language_info": {
   "codemirror_mode": {
    "name": "ipython",
    "version": 3
   },
   "file_extension": ".py",
   "mimetype": "text/x-python",
   "name": "python",
   "nbconvert_exporter": "python",
   "pygments_lexer": "ipython3",
   "version": "3.9.13"
  }
 },
 "nbformat": 4,
 "nbformat_minor": 5
}
