{
 "cells": [
  {
   "cell_type": "markdown",
   "id": "c8bf31d6",
   "metadata": {},
   "source": [
    "Github\n",
    "Gitbash\n",
    "Gitlab\n",
    "Bitbacket"
   ]
  },
  {
   "cell_type": "markdown",
   "id": "c8017f08",
   "metadata": {},
   "source": [
    "# 1. Clonining the repository"
   ]
  },
  {
   "cell_type": "code",
   "execution_count": null,
   "id": "6305309f",
   "metadata": {},
   "outputs": [],
   "source": [
    "git clone repository url "
   ]
  },
  {
   "cell_type": "code",
   "execution_count": null,
   "id": "2ce79deb",
   "metadata": {},
   "outputs": [],
   "source": [
    "Go in the folder\n",
    "cd Repository name "
   ]
  },
  {
   "cell_type": "markdown",
   "id": "33b7bc29",
   "metadata": {},
   "source": [
    "# 2.Checking the status \n",
    "it gives us the branch name and gives us the ststus if we are adding some things "
   ]
  },
  {
   "cell_type": "code",
   "execution_count": null,
   "id": "30e75e5c",
   "metadata": {},
   "outputs": [],
   "source": [
    "git status"
   ]
  },
  {
   "cell_type": "markdown",
   "id": "dacfe065",
   "metadata": {},
   "source": [
    "it is showing us untracked file to put all file in proper formate we have add this file "
   ]
  },
  {
   "cell_type": "markdown",
   "id": "e72de420",
   "metadata": {},
   "source": [
    "# 3. adding the file "
   ]
  },
  {
   "cell_type": "code",
   "execution_count": null,
   "id": "d094162c",
   "metadata": {},
   "outputs": [],
   "source": [
    "git add file name    ---- when therir is only one file "
   ]
  },
  {
   "cell_type": "code",
   "execution_count": null,
   "id": "9de424e6",
   "metadata": {},
   "outputs": [],
   "source": [
    "git add --all     ---- for multiple files "
   ]
  },
  {
   "cell_type": "code",
   "execution_count": null,
   "id": "2a446c02",
   "metadata": {},
   "outputs": [],
   "source": [
    "git add .    ---- for multiple files "
   ]
  },
  {
   "cell_type": "markdown",
   "id": "15ce2a89",
   "metadata": {},
   "source": [
    "# 4 Commit the file "
   ]
  },
  {
   "cell_type": "code",
   "execution_count": null,
   "id": "4f147847",
   "metadata": {},
   "outputs": [],
   "source": [
    "git commit -m \"meassage for this file\""
   ]
  },
  {
   "cell_type": "markdown",
   "id": "e8b6f099",
   "metadata": {},
   "source": [
    "# push "
   ]
  },
  {
   "cell_type": "code",
   "execution_count": null,
   "id": "1cec7f80",
   "metadata": {},
   "outputs": [],
   "source": [
    "git push "
   ]
  }
 ],
 "metadata": {
  "kernelspec": {
   "display_name": "Python 3 (ipykernel)",
   "language": "python",
   "name": "python3"
  },
  "language_info": {
   "codemirror_mode": {
    "name": "ipython",
    "version": 3
   },
   "file_extension": ".py",
   "mimetype": "text/x-python",
   "name": "python",
   "nbconvert_exporter": "python",
   "pygments_lexer": "ipython3",
   "version": "3.10.9"
  }
 },
 "nbformat": 4,
 "nbformat_minor": 5
}
