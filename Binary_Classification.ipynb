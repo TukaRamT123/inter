{
 "cells": [
  {
   "cell_type": "markdown",
   "id": "344cb2c3",
   "metadata": {},
   "source": [
    "## 1"
   ]
  },
  {
   "cell_type": "code",
   "execution_count": 1,
   "id": "7a559119",
   "metadata": {},
   "outputs": [],
   "source": [
    "from sklearn.datasets import make_classification\n",
    "X, Y = make_classification(n_samples=1000,\n",
    "                           n_features=10,\n",
    "                           n_informative=5,\n",
    "                           n_classes=2,\n",
    "                           random_state=42)"
   ]
  },
  {
   "cell_type": "code",
   "execution_count": 2,
   "id": "2e93e196",
   "metadata": {},
   "outputs": [
    {
     "data": {
      "text/plain": [
       "array([[ 1.12510039,  1.17812384,  0.49351604, ...,  1.35732466,\n",
       "         0.9660408 , -1.98113862],\n",
       "       [-0.56464086,  3.6386291 , -1.52241469, ..., -0.89025442,\n",
       "         1.43882638, -3.82874758],\n",
       "       [ 0.51631285,  2.16542633, -0.62848571, ..., -1.95817543,\n",
       "        -0.34880315, -1.8041241 ],\n",
       "       ...,\n",
       "       [ 1.65015307, -0.69216458, -2.04920577, ..., -1.30257748,\n",
       "        -1.28550452,  3.32856934],\n",
       "       [-1.18660302, -1.41459786, -0.12151968, ..., -1.42146469,\n",
       "        -0.02833985,  3.41393228],\n",
       "       [ 0.78867591, -0.22254747,  0.32856985, ..., -1.29103957,\n",
       "        -2.33817245,  2.03602059]])"
      ]
     },
     "execution_count": 2,
     "metadata": {},
     "output_type": "execute_result"
    }
   ],
   "source": [
    "X"
   ]
  },
  {
   "cell_type": "code",
   "execution_count": 3,
   "id": "37464193",
   "metadata": {},
   "outputs": [
    {
     "data": {
      "text/plain": [
       "array([1, 0, 0, 1, 0, 1, 0, 1, 0, 0, 0, 0, 0, 1, 0, 0, 1, 0, 0, 0, 0, 1,\n",
       "       0, 0, 0, 0, 0, 0, 1, 1, 0, 0, 1, 1, 0, 1, 0, 0, 1, 0, 0, 0, 0, 1,\n",
       "       1, 0, 1, 0, 1, 1, 0, 1, 0, 1, 0, 1, 0, 1, 0, 1, 0, 0, 0, 1, 0, 1,\n",
       "       0, 1, 0, 1, 0, 1, 0, 1, 1, 1, 1, 1, 1, 1, 1, 1, 0, 0, 1, 1, 1, 1,\n",
       "       1, 0, 1, 1, 1, 0, 1, 1, 1, 1, 0, 0, 1, 1, 1, 0, 1, 1, 0, 1, 0, 0,\n",
       "       1, 1, 1, 0, 1, 0, 0, 0, 0, 0, 0, 0, 1, 1, 0, 1, 1, 1, 1, 1, 1, 0,\n",
       "       1, 1, 0, 0, 1, 1, 0, 0, 0, 0, 1, 1, 1, 0, 1, 1, 0, 1, 1, 1, 0, 0,\n",
       "       1, 1, 1, 0, 0, 0, 0, 1, 1, 1, 0, 1, 1, 1, 0, 0, 0, 0, 1, 0, 0, 1,\n",
       "       0, 0, 0, 1, 0, 1, 1, 1, 0, 1, 1, 1, 0, 1, 1, 1, 0, 0, 0, 1, 0, 0,\n",
       "       0, 0, 1, 0, 1, 1, 1, 0, 0, 1, 1, 0, 0, 0, 1, 0, 0, 1, 1, 1, 0, 1,\n",
       "       1, 0, 1, 1, 1, 1, 1, 0, 1, 1, 0, 0, 1, 0, 0, 1, 0, 0, 1, 0, 1, 1,\n",
       "       0, 0, 1, 1, 1, 0, 0, 0, 1, 0, 1, 1, 0, 1, 1, 0, 1, 0, 1, 1, 0, 1,\n",
       "       0, 1, 1, 1, 1, 0, 1, 1, 1, 1, 1, 1, 0, 0, 1, 1, 1, 1, 1, 1, 1, 0,\n",
       "       0, 1, 0, 0, 1, 0, 0, 1, 1, 0, 0, 0, 1, 0, 1, 0, 0, 0, 0, 1, 0, 1,\n",
       "       1, 0, 0, 0, 0, 0, 1, 0, 1, 0, 0, 0, 1, 0, 1, 1, 0, 0, 0, 0, 0, 0,\n",
       "       1, 1, 0, 1, 1, 1, 1, 0, 0, 1, 0, 1, 0, 0, 1, 0, 0, 0, 1, 1, 1, 1,\n",
       "       0, 1, 0, 1, 1, 0, 1, 0, 1, 1, 1, 1, 0, 1, 1, 0, 1, 0, 0, 0, 0, 0,\n",
       "       1, 1, 0, 0, 1, 0, 0, 1, 0, 1, 0, 0, 0, 0, 1, 1, 0, 0, 1, 0, 0, 0,\n",
       "       1, 1, 0, 0, 0, 0, 1, 1, 1, 1, 1, 0, 0, 0, 0, 0, 0, 1, 0, 0, 0, 1,\n",
       "       0, 0, 1, 0, 0, 1, 1, 0, 1, 0, 1, 0, 1, 1, 0, 1, 0, 1, 1, 0, 1, 0,\n",
       "       0, 0, 1, 0, 0, 0, 0, 1, 1, 1, 1, 1, 1, 1, 0, 0, 1, 1, 0, 1, 1, 1,\n",
       "       1, 0, 1, 0, 1, 0, 1, 0, 0, 0, 1, 1, 1, 1, 0, 0, 0, 1, 1, 1, 1, 0,\n",
       "       1, 0, 0, 0, 1, 1, 0, 1, 0, 1, 0, 1, 1, 0, 0, 1, 1, 1, 1, 0, 1, 0,\n",
       "       1, 1, 1, 1, 0, 0, 1, 1, 1, 1, 1, 1, 0, 1, 0, 0, 1, 0, 0, 0, 0, 0,\n",
       "       1, 1, 1, 1, 0, 1, 1, 0, 0, 1, 1, 1, 1, 1, 0, 0, 1, 1, 1, 1, 1, 0,\n",
       "       1, 1, 1, 0, 1, 1, 1, 0, 0, 0, 1, 0, 1, 0, 0, 0, 0, 1, 1, 0, 0, 0,\n",
       "       0, 1, 1, 0, 0, 0, 0, 1, 1, 0, 1, 1, 0, 1, 1, 0, 1, 0, 0, 1, 1, 0,\n",
       "       1, 0, 1, 0, 0, 0, 0, 1, 0, 0, 1, 1, 1, 1, 0, 1, 0, 0, 1, 1, 1, 1,\n",
       "       1, 1, 1, 0, 1, 0, 1, 1, 0, 1, 0, 1, 0, 0, 0, 0, 1, 1, 1, 0, 1, 1,\n",
       "       1, 1, 1, 1, 1, 1, 0, 1, 0, 0, 0, 0, 1, 0, 1, 0, 0, 0, 1, 1, 0, 0,\n",
       "       0, 1, 1, 0, 1, 1, 0, 1, 1, 1, 0, 1, 1, 0, 1, 0, 0, 0, 0, 1, 1, 0,\n",
       "       0, 1, 1, 0, 1, 1, 0, 1, 0, 0, 0, 1, 0, 0, 0, 0, 0, 1, 1, 1, 1, 0,\n",
       "       0, 0, 1, 0, 0, 1, 1, 1, 0, 1, 0, 0, 0, 0, 0, 1, 1, 0, 0, 1, 0, 1,\n",
       "       0, 1, 0, 0, 1, 0, 0, 1, 1, 1, 1, 1, 0, 1, 0, 0, 0, 0, 1, 1, 1, 0,\n",
       "       0, 1, 1, 1, 1, 1, 0, 0, 0, 0, 1, 1, 0, 0, 0, 0, 1, 1, 1, 0, 0, 0,\n",
       "       1, 1, 0, 0, 0, 1, 1, 1, 1, 1, 1, 1, 1, 1, 0, 1, 1, 0, 0, 1, 0, 1,\n",
       "       1, 1, 0, 1, 0, 0, 0, 0, 0, 0, 1, 0, 1, 0, 0, 0, 1, 0, 0, 1, 1, 0,\n",
       "       1, 0, 0, 1, 1, 0, 1, 1, 0, 0, 1, 0, 1, 1, 1, 0, 1, 0, 0, 0, 0, 0,\n",
       "       1, 1, 1, 1, 1, 0, 0, 0, 0, 1, 1, 0, 0, 0, 0, 1, 0, 0, 0, 1, 1, 1,\n",
       "       0, 1, 0, 0, 0, 1, 1, 0, 0, 0, 1, 1, 1, 0, 0, 0, 0, 0, 1, 1, 0, 0,\n",
       "       1, 0, 0, 1, 1, 0, 1, 0, 1, 1, 1, 1, 0, 0, 1, 1, 1, 0, 0, 1, 0, 1,\n",
       "       0, 0, 0, 0, 0, 0, 1, 1, 1, 0, 1, 0, 1, 0, 1, 1, 1, 0, 0, 0, 1, 1,\n",
       "       1, 1, 0, 1, 1, 0, 1, 0, 1, 0, 1, 0, 1, 0, 0, 0, 1, 1, 0, 1, 0, 0,\n",
       "       1, 1, 0, 0, 1, 0, 1, 1, 0, 0, 0, 1, 0, 1, 0, 1, 0, 1, 0, 0, 1, 0,\n",
       "       0, 1, 0, 0, 0, 0, 0, 0, 0, 0, 1, 1, 1, 1, 0, 1, 0, 0, 0, 0, 1, 0,\n",
       "       1, 0, 1, 1, 0, 0, 1, 1, 1, 0])"
      ]
     },
     "execution_count": 3,
     "metadata": {},
     "output_type": "execute_result"
    }
   ],
   "source": [
    "Y"
   ]
  },
  {
   "cell_type": "markdown",
   "id": "f3c6158d",
   "metadata": {},
   "source": [
    "## 2"
   ]
  },
  {
   "cell_type": "code",
   "execution_count": 4,
   "id": "d663d1ed",
   "metadata": {},
   "outputs": [
    {
     "data": {
      "text/html": [
       "<div>\n",
       "<style scoped>\n",
       "    .dataframe tbody tr th:only-of-type {\n",
       "        vertical-align: middle;\n",
       "    }\n",
       "\n",
       "    .dataframe tbody tr th {\n",
       "        vertical-align: top;\n",
       "    }\n",
       "\n",
       "    .dataframe thead th {\n",
       "        text-align: right;\n",
       "    }\n",
       "</style>\n",
       "<table border=\"1\" class=\"dataframe\">\n",
       "  <thead>\n",
       "    <tr style=\"text-align: right;\">\n",
       "      <th></th>\n",
       "      <th>x1</th>\n",
       "      <th>x2</th>\n",
       "      <th>x3</th>\n",
       "      <th>x4</th>\n",
       "      <th>x5</th>\n",
       "      <th>x6</th>\n",
       "      <th>x7</th>\n",
       "      <th>x8</th>\n",
       "      <th>x9</th>\n",
       "      <th>x10</th>\n",
       "    </tr>\n",
       "  </thead>\n",
       "  <tbody>\n",
       "    <tr>\n",
       "      <th>0</th>\n",
       "      <td>1.125100</td>\n",
       "      <td>1.178124</td>\n",
       "      <td>0.493516</td>\n",
       "      <td>0.790880</td>\n",
       "      <td>-0.614278</td>\n",
       "      <td>1.347020</td>\n",
       "      <td>1.419515</td>\n",
       "      <td>1.357325</td>\n",
       "      <td>0.966041</td>\n",
       "      <td>-1.981139</td>\n",
       "    </tr>\n",
       "    <tr>\n",
       "      <th>1</th>\n",
       "      <td>-0.564641</td>\n",
       "      <td>3.638629</td>\n",
       "      <td>-1.522415</td>\n",
       "      <td>-1.541705</td>\n",
       "      <td>1.616697</td>\n",
       "      <td>4.781310</td>\n",
       "      <td>3.190292</td>\n",
       "      <td>-0.890254</td>\n",
       "      <td>1.438826</td>\n",
       "      <td>-3.828748</td>\n",
       "    </tr>\n",
       "    <tr>\n",
       "      <th>2</th>\n",
       "      <td>0.516313</td>\n",
       "      <td>2.165426</td>\n",
       "      <td>-0.628486</td>\n",
       "      <td>-0.386923</td>\n",
       "      <td>0.492518</td>\n",
       "      <td>1.442381</td>\n",
       "      <td>1.332905</td>\n",
       "      <td>-1.958175</td>\n",
       "      <td>-0.348803</td>\n",
       "      <td>-1.804124</td>\n",
       "    </tr>\n",
       "    <tr>\n",
       "      <th>3</th>\n",
       "      <td>0.537282</td>\n",
       "      <td>0.966618</td>\n",
       "      <td>-0.115420</td>\n",
       "      <td>0.670755</td>\n",
       "      <td>-0.958516</td>\n",
       "      <td>0.871440</td>\n",
       "      <td>0.508186</td>\n",
       "      <td>-1.034471</td>\n",
       "      <td>-1.654176</td>\n",
       "      <td>-1.910503</td>\n",
       "    </tr>\n",
       "    <tr>\n",
       "      <th>4</th>\n",
       "      <td>0.278385</td>\n",
       "      <td>1.065828</td>\n",
       "      <td>-1.724917</td>\n",
       "      <td>-2.235667</td>\n",
       "      <td>0.715107</td>\n",
       "      <td>0.731249</td>\n",
       "      <td>-0.674119</td>\n",
       "      <td>0.598330</td>\n",
       "      <td>-0.524283</td>\n",
       "      <td>1.047610</td>\n",
       "    </tr>\n",
       "  </tbody>\n",
       "</table>\n",
       "</div>"
      ],
      "text/plain": [
       "         x1        x2        x3        x4        x5        x6        x7  \\\n",
       "0  1.125100  1.178124  0.493516  0.790880 -0.614278  1.347020  1.419515   \n",
       "1 -0.564641  3.638629 -1.522415 -1.541705  1.616697  4.781310  3.190292   \n",
       "2  0.516313  2.165426 -0.628486 -0.386923  0.492518  1.442381  1.332905   \n",
       "3  0.537282  0.966618 -0.115420  0.670755 -0.958516  0.871440  0.508186   \n",
       "4  0.278385  1.065828 -1.724917 -2.235667  0.715107  0.731249 -0.674119   \n",
       "\n",
       "         x8        x9       x10  \n",
       "0  1.357325  0.966041 -1.981139  \n",
       "1 -0.890254  1.438826 -3.828748  \n",
       "2 -1.958175 -0.348803 -1.804124  \n",
       "3 -1.034471 -1.654176 -1.910503  \n",
       "4  0.598330 -0.524283  1.047610  "
      ]
     },
     "execution_count": 4,
     "metadata": {},
     "output_type": "execute_result"
    }
   ],
   "source": [
    "import pandas as pd\n",
    "from warnings import filterwarnings\n",
    "filterwarnings('ignore')\n",
    "features = ['x1','x2','x3','x4','x5','x6','x7','x8','x9','x10']\n",
    "X = pd.DataFrame(X,columns=features)\n",
    "X.head()"
   ]
  },
  {
   "cell_type": "code",
   "execution_count": 5,
   "id": "f4443f53",
   "metadata": {},
   "outputs": [
    {
     "data": {
      "text/html": [
       "<div>\n",
       "<style scoped>\n",
       "    .dataframe tbody tr th:only-of-type {\n",
       "        vertical-align: middle;\n",
       "    }\n",
       "\n",
       "    .dataframe tbody tr th {\n",
       "        vertical-align: top;\n",
       "    }\n",
       "\n",
       "    .dataframe thead th {\n",
       "        text-align: right;\n",
       "    }\n",
       "</style>\n",
       "<table border=\"1\" class=\"dataframe\">\n",
       "  <thead>\n",
       "    <tr style=\"text-align: right;\">\n",
       "      <th></th>\n",
       "      <th>Target</th>\n",
       "    </tr>\n",
       "  </thead>\n",
       "  <tbody>\n",
       "    <tr>\n",
       "      <th>0</th>\n",
       "      <td>1</td>\n",
       "    </tr>\n",
       "    <tr>\n",
       "      <th>1</th>\n",
       "      <td>0</td>\n",
       "    </tr>\n",
       "    <tr>\n",
       "      <th>2</th>\n",
       "      <td>0</td>\n",
       "    </tr>\n",
       "    <tr>\n",
       "      <th>3</th>\n",
       "      <td>1</td>\n",
       "    </tr>\n",
       "    <tr>\n",
       "      <th>4</th>\n",
       "      <td>0</td>\n",
       "    </tr>\n",
       "  </tbody>\n",
       "</table>\n",
       "</div>"
      ],
      "text/plain": [
       "   Target\n",
       "0       1\n",
       "1       0\n",
       "2       0\n",
       "3       1\n",
       "4       0"
      ]
     },
     "execution_count": 5,
     "metadata": {},
     "output_type": "execute_result"
    }
   ],
   "source": [
    "Y = pd.DataFrame(Y,columns=[\"Target\"])\n",
    "Y.head()"
   ]
  },
  {
   "cell_type": "markdown",
   "id": "768857dd",
   "metadata": {},
   "source": [
    "## 3"
   ]
  },
  {
   "cell_type": "code",
   "execution_count": 6,
   "id": "4e91294d",
   "metadata": {},
   "outputs": [
    {
     "data": {
      "text/plain": [
       "x1     0\n",
       "x2     0\n",
       "x3     0\n",
       "x4     0\n",
       "x5     0\n",
       "x6     0\n",
       "x7     0\n",
       "x8     0\n",
       "x9     0\n",
       "x10    0\n",
       "dtype: int64"
      ]
     },
     "execution_count": 6,
     "metadata": {},
     "output_type": "execute_result"
    }
   ],
   "source": [
    "X.isna().sum()"
   ]
  },
  {
   "cell_type": "code",
   "execution_count": 7,
   "id": "7b4990e0",
   "metadata": {},
   "outputs": [
    {
     "data": {
      "text/plain": [
       "Target    0\n",
       "dtype: int64"
      ]
     },
     "execution_count": 7,
     "metadata": {},
     "output_type": "execute_result"
    }
   ],
   "source": [
    "Y.isna().sum()"
   ]
  },
  {
   "cell_type": "markdown",
   "id": "f5480df1",
   "metadata": {},
   "source": [
    "## 4"
   ]
  },
  {
   "cell_type": "code",
   "execution_count": 8,
   "id": "c72833e5",
   "metadata": {},
   "outputs": [],
   "source": [
    "from sklearn.model_selection import train_test_split\n",
    "xtrain, xtest, ytrain, ytest = train_test_split(X, Y, test_size=0.3, random_state=42)"
   ]
  },
  {
   "cell_type": "markdown",
   "id": "a740af82",
   "metadata": {},
   "source": [
    "## 5"
   ]
  },
  {
   "cell_type": "code",
   "execution_count": 9,
   "id": "9a81082a",
   "metadata": {},
   "outputs": [],
   "source": [
    "from sklearn.preprocessing import StandardScaler\n",
    "ss = StandardScaler()\n",
    "xtrain = pd.DataFrame(ss.fit_transform(xtrain),columns=xtrain.columns)\n",
    "xtest = pd.DataFrame(ss.transform(xtest),columns=xtest.columns)"
   ]
  },
  {
   "cell_type": "markdown",
   "id": "e6bc068b",
   "metadata": {},
   "source": [
    "## 6"
   ]
  },
  {
   "cell_type": "code",
   "execution_count": 10,
   "id": "7b8886aa",
   "metadata": {},
   "outputs": [],
   "source": [
    "from keras.models import Sequential\n",
    "from keras.layers import Dense,Dropout"
   ]
  },
  {
   "cell_type": "code",
   "execution_count": 11,
   "id": "848cd543",
   "metadata": {},
   "outputs": [],
   "source": [
    "model = Sequential()\n",
    "model.add(Dense(128,input_dim=xtrain.shape[1],activation='relu'))\n",
    "model.add(Dropout(0.5))   \n",
    "model.add(Dense(64, activation='relu'))\n",
    "model.add(Dropout(0.5))\n",
    "model.add(Dense(32, activation='relu'))\n",
    "model.add(Dropout(0.5))\n",
    "model.add(Dense(1,activation='sigmoid'))"
   ]
  },
  {
   "cell_type": "code",
   "execution_count": 12,
   "id": "6869260f",
   "metadata": {},
   "outputs": [
    {
     "name": "stdout",
     "output_type": "stream",
     "text": [
      "Model: \"sequential\"\n",
      "_________________________________________________________________\n",
      " Layer (type)                Output Shape              Param #   \n",
      "=================================================================\n",
      " dense (Dense)               (None, 128)               1408      \n",
      "                                                                 \n",
      " dropout (Dropout)           (None, 128)               0         \n",
      "                                                                 \n",
      " dense_1 (Dense)             (None, 64)                8256      \n",
      "                                                                 \n",
      " dropout_1 (Dropout)         (None, 64)                0         \n",
      "                                                                 \n",
      " dense_2 (Dense)             (None, 32)                2080      \n",
      "                                                                 \n",
      " dropout_2 (Dropout)         (None, 32)                0         \n",
      "                                                                 \n",
      " dense_3 (Dense)             (None, 1)                 33        \n",
      "                                                                 \n",
      "=================================================================\n",
      "Total params: 11777 (46.00 KB)\n",
      "Trainable params: 11777 (46.00 KB)\n",
      "Non-trainable params: 0 (0.00 Byte)\n",
      "_________________________________________________________________\n"
     ]
    }
   ],
   "source": [
    "model.summary()"
   ]
  },
  {
   "cell_type": "markdown",
   "id": "196704b4",
   "metadata": {},
   "source": [
    "## 7"
   ]
  },
  {
   "cell_type": "code",
   "execution_count": 13,
   "id": "52d83d90",
   "metadata": {},
   "outputs": [],
   "source": [
    "model.compile(loss='binary_crossentropy',optimizer='adam',metrics=['accuracy'])"
   ]
  },
  {
   "cell_type": "code",
   "execution_count": 14,
   "id": "e21d1433",
   "metadata": {
    "scrolled": false
   },
   "outputs": [
    {
     "name": "stdout",
     "output_type": "stream",
     "text": [
      "Epoch 1/100\n",
      "18/18 [==============================] - 1s 16ms/step - loss: 0.6904 - accuracy: 0.5714 - val_loss: 0.6670 - val_accuracy: 0.5857\n",
      "Epoch 2/100\n",
      "18/18 [==============================] - 0s 4ms/step - loss: 0.6536 - accuracy: 0.5839 - val_loss: 0.6100 - val_accuracy: 0.7357\n",
      "Epoch 3/100\n",
      "18/18 [==============================] - 0s 4ms/step - loss: 0.6432 - accuracy: 0.6071 - val_loss: 0.5594 - val_accuracy: 0.8143\n",
      "Epoch 4/100\n",
      "18/18 [==============================] - 0s 4ms/step - loss: 0.5918 - accuracy: 0.6696 - val_loss: 0.5102 - val_accuracy: 0.8571\n",
      "Epoch 5/100\n",
      "18/18 [==============================] - 0s 5ms/step - loss: 0.5480 - accuracy: 0.7161 - val_loss: 0.4691 - val_accuracy: 0.8571\n",
      "Epoch 6/100\n",
      "18/18 [==============================] - 0s 4ms/step - loss: 0.5224 - accuracy: 0.7393 - val_loss: 0.4208 - val_accuracy: 0.8500\n",
      "Epoch 7/100\n",
      "18/18 [==============================] - 0s 4ms/step - loss: 0.5041 - accuracy: 0.7500 - val_loss: 0.3948 - val_accuracy: 0.8500\n",
      "Epoch 8/100\n",
      "18/18 [==============================] - 0s 4ms/step - loss: 0.4646 - accuracy: 0.7982 - val_loss: 0.3745 - val_accuracy: 0.8571\n",
      "Epoch 9/100\n",
      "18/18 [==============================] - 0s 4ms/step - loss: 0.4313 - accuracy: 0.8018 - val_loss: 0.3616 - val_accuracy: 0.8571\n",
      "Epoch 10/100\n",
      "18/18 [==============================] - 0s 4ms/step - loss: 0.4303 - accuracy: 0.8196 - val_loss: 0.3537 - val_accuracy: 0.8500\n",
      "Epoch 11/100\n",
      "18/18 [==============================] - 0s 4ms/step - loss: 0.4189 - accuracy: 0.8107 - val_loss: 0.3484 - val_accuracy: 0.8643\n",
      "Epoch 12/100\n",
      "18/18 [==============================] - 0s 4ms/step - loss: 0.3824 - accuracy: 0.8464 - val_loss: 0.3388 - val_accuracy: 0.8500\n",
      "Epoch 13/100\n",
      "18/18 [==============================] - 0s 4ms/step - loss: 0.3263 - accuracy: 0.8750 - val_loss: 0.3304 - val_accuracy: 0.8571\n",
      "Epoch 14/100\n",
      "18/18 [==============================] - 0s 4ms/step - loss: 0.3453 - accuracy: 0.8643 - val_loss: 0.3269 - val_accuracy: 0.8571\n",
      "Epoch 15/100\n",
      "18/18 [==============================] - 0s 4ms/step - loss: 0.3513 - accuracy: 0.8554 - val_loss: 0.3246 - val_accuracy: 0.8714\n",
      "Epoch 16/100\n",
      "18/18 [==============================] - 0s 4ms/step - loss: 0.3444 - accuracy: 0.8732 - val_loss: 0.3227 - val_accuracy: 0.8714\n",
      "Epoch 17/100\n",
      "18/18 [==============================] - 0s 4ms/step - loss: 0.3430 - accuracy: 0.8589 - val_loss: 0.3202 - val_accuracy: 0.8714\n",
      "Epoch 18/100\n",
      "18/18 [==============================] - 0s 5ms/step - loss: 0.3367 - accuracy: 0.8625 - val_loss: 0.3182 - val_accuracy: 0.8714\n",
      "Epoch 19/100\n",
      "18/18 [==============================] - 0s 4ms/step - loss: 0.3177 - accuracy: 0.8625 - val_loss: 0.3221 - val_accuracy: 0.8643\n",
      "Epoch 20/100\n",
      "18/18 [==============================] - 0s 4ms/step - loss: 0.3285 - accuracy: 0.8571 - val_loss: 0.3217 - val_accuracy: 0.8786\n",
      "Epoch 21/100\n",
      "18/18 [==============================] - 0s 5ms/step - loss: 0.3060 - accuracy: 0.8857 - val_loss: 0.3204 - val_accuracy: 0.8786\n",
      "Epoch 22/100\n",
      "18/18 [==============================] - 0s 4ms/step - loss: 0.2903 - accuracy: 0.8750 - val_loss: 0.3192 - val_accuracy: 0.8643\n",
      "Epoch 23/100\n",
      "18/18 [==============================] - 0s 4ms/step - loss: 0.2998 - accuracy: 0.8839 - val_loss: 0.3171 - val_accuracy: 0.8714\n",
      "Epoch 24/100\n",
      "18/18 [==============================] - 0s 4ms/step - loss: 0.2982 - accuracy: 0.8875 - val_loss: 0.3201 - val_accuracy: 0.8786\n",
      "Epoch 25/100\n",
      "18/18 [==============================] - 0s 4ms/step - loss: 0.3234 - accuracy: 0.8714 - val_loss: 0.3168 - val_accuracy: 0.8857\n",
      "Epoch 26/100\n",
      "18/18 [==============================] - 0s 4ms/step - loss: 0.2676 - accuracy: 0.9000 - val_loss: 0.3185 - val_accuracy: 0.8929\n",
      "Epoch 27/100\n",
      "18/18 [==============================] - 0s 4ms/step - loss: 0.2712 - accuracy: 0.8982 - val_loss: 0.3177 - val_accuracy: 0.8857\n",
      "Epoch 28/100\n",
      "18/18 [==============================] - 0s 5ms/step - loss: 0.2748 - accuracy: 0.8929 - val_loss: 0.3165 - val_accuracy: 0.8929\n",
      "Epoch 29/100\n",
      "18/18 [==============================] - 0s 5ms/step - loss: 0.2846 - accuracy: 0.8911 - val_loss: 0.3159 - val_accuracy: 0.8857\n",
      "Epoch 30/100\n",
      "18/18 [==============================] - 0s 4ms/step - loss: 0.2953 - accuracy: 0.8804 - val_loss: 0.3111 - val_accuracy: 0.8929\n",
      "Epoch 31/100\n",
      "18/18 [==============================] - 0s 4ms/step - loss: 0.2666 - accuracy: 0.8893 - val_loss: 0.3106 - val_accuracy: 0.9000\n",
      "Epoch 32/100\n",
      "18/18 [==============================] - 0s 5ms/step - loss: 0.2963 - accuracy: 0.8911 - val_loss: 0.3111 - val_accuracy: 0.9000\n",
      "Epoch 33/100\n",
      "18/18 [==============================] - 0s 4ms/step - loss: 0.2535 - accuracy: 0.9000 - val_loss: 0.3107 - val_accuracy: 0.9071\n",
      "Epoch 34/100\n",
      "18/18 [==============================] - 0s 4ms/step - loss: 0.2649 - accuracy: 0.9000 - val_loss: 0.3030 - val_accuracy: 0.9143\n",
      "Epoch 35/100\n",
      "18/18 [==============================] - 0s 4ms/step - loss: 0.2785 - accuracy: 0.8982 - val_loss: 0.3030 - val_accuracy: 0.9071\n",
      "Epoch 36/100\n",
      "18/18 [==============================] - 0s 5ms/step - loss: 0.2630 - accuracy: 0.8946 - val_loss: 0.3023 - val_accuracy: 0.9071\n",
      "Epoch 37/100\n",
      "18/18 [==============================] - 0s 4ms/step - loss: 0.2506 - accuracy: 0.8929 - val_loss: 0.3022 - val_accuracy: 0.9000\n",
      "Epoch 38/100\n",
      "18/18 [==============================] - 0s 5ms/step - loss: 0.2621 - accuracy: 0.9089 - val_loss: 0.3022 - val_accuracy: 0.9071\n",
      "Epoch 39/100\n",
      "18/18 [==============================] - 0s 5ms/step - loss: 0.2466 - accuracy: 0.8911 - val_loss: 0.2932 - val_accuracy: 0.9071\n",
      "Epoch 40/100\n",
      "18/18 [==============================] - 0s 4ms/step - loss: 0.2619 - accuracy: 0.9054 - val_loss: 0.2901 - val_accuracy: 0.9143\n",
      "Epoch 41/100\n",
      "18/18 [==============================] - 0s 4ms/step - loss: 0.2726 - accuracy: 0.9071 - val_loss: 0.2937 - val_accuracy: 0.9143\n",
      "Epoch 42/100\n",
      "18/18 [==============================] - 0s 5ms/step - loss: 0.2545 - accuracy: 0.9036 - val_loss: 0.2922 - val_accuracy: 0.9071\n",
      "Epoch 43/100\n",
      "18/18 [==============================] - 0s 4ms/step - loss: 0.2592 - accuracy: 0.8946 - val_loss: 0.2887 - val_accuracy: 0.9071\n",
      "Epoch 44/100\n",
      "18/18 [==============================] - 0s 4ms/step - loss: 0.2169 - accuracy: 0.9125 - val_loss: 0.2870 - val_accuracy: 0.9143\n",
      "Epoch 45/100\n",
      "18/18 [==============================] - 0s 4ms/step - loss: 0.2627 - accuracy: 0.9107 - val_loss: 0.2862 - val_accuracy: 0.9143\n",
      "Epoch 46/100\n",
      "18/18 [==============================] - 0s 5ms/step - loss: 0.2658 - accuracy: 0.9036 - val_loss: 0.2894 - val_accuracy: 0.9143\n",
      "Epoch 47/100\n",
      "18/18 [==============================] - 0s 4ms/step - loss: 0.2112 - accuracy: 0.9232 - val_loss: 0.2880 - val_accuracy: 0.9143\n",
      "Epoch 48/100\n",
      "18/18 [==============================] - 0s 4ms/step - loss: 0.2155 - accuracy: 0.9161 - val_loss: 0.2879 - val_accuracy: 0.9214\n",
      "Epoch 49/100\n",
      "18/18 [==============================] - 0s 5ms/step - loss: 0.2169 - accuracy: 0.9143 - val_loss: 0.2925 - val_accuracy: 0.9214\n",
      "Epoch 50/100\n",
      "18/18 [==============================] - 0s 4ms/step - loss: 0.2304 - accuracy: 0.9054 - val_loss: 0.2959 - val_accuracy: 0.9143\n",
      "Epoch 51/100\n",
      "18/18 [==============================] - 0s 4ms/step - loss: 0.2291 - accuracy: 0.9268 - val_loss: 0.2938 - val_accuracy: 0.9143\n",
      "Epoch 52/100\n",
      "18/18 [==============================] - 0s 4ms/step - loss: 0.2107 - accuracy: 0.9214 - val_loss: 0.2955 - val_accuracy: 0.9214\n",
      "Epoch 53/100\n",
      "18/18 [==============================] - 0s 4ms/step - loss: 0.2076 - accuracy: 0.9214 - val_loss: 0.2939 - val_accuracy: 0.9214\n",
      "Epoch 54/100\n",
      "18/18 [==============================] - 0s 4ms/step - loss: 0.2187 - accuracy: 0.9161 - val_loss: 0.2901 - val_accuracy: 0.9214\n",
      "Epoch 55/100\n",
      "18/18 [==============================] - 0s 4ms/step - loss: 0.2213 - accuracy: 0.9250 - val_loss: 0.2858 - val_accuracy: 0.9357\n",
      "Epoch 56/100\n",
      "18/18 [==============================] - 0s 4ms/step - loss: 0.2226 - accuracy: 0.9196 - val_loss: 0.2833 - val_accuracy: 0.9357\n",
      "Epoch 57/100\n",
      "18/18 [==============================] - 0s 4ms/step - loss: 0.2049 - accuracy: 0.9250 - val_loss: 0.2827 - val_accuracy: 0.9357\n",
      "Epoch 58/100\n",
      "18/18 [==============================] - 0s 4ms/step - loss: 0.1885 - accuracy: 0.9232 - val_loss: 0.2840 - val_accuracy: 0.9429\n",
      "Epoch 59/100\n",
      "18/18 [==============================] - 0s 4ms/step - loss: 0.2072 - accuracy: 0.9125 - val_loss: 0.2837 - val_accuracy: 0.9357\n",
      "Epoch 60/100\n",
      "18/18 [==============================] - 0s 4ms/step - loss: 0.2065 - accuracy: 0.9089 - val_loss: 0.2743 - val_accuracy: 0.9357\n",
      "Epoch 61/100\n",
      "18/18 [==============================] - 0s 4ms/step - loss: 0.2243 - accuracy: 0.9232 - val_loss: 0.2731 - val_accuracy: 0.9357\n",
      "Epoch 62/100\n",
      "18/18 [==============================] - 0s 4ms/step - loss: 0.2082 - accuracy: 0.9161 - val_loss: 0.2720 - val_accuracy: 0.9429\n",
      "Epoch 63/100\n",
      "18/18 [==============================] - 0s 4ms/step - loss: 0.1998 - accuracy: 0.9250 - val_loss: 0.2746 - val_accuracy: 0.9357\n",
      "Epoch 64/100\n",
      "18/18 [==============================] - 0s 4ms/step - loss: 0.2004 - accuracy: 0.9286 - val_loss: 0.2753 - val_accuracy: 0.9357\n",
      "Epoch 65/100\n",
      "18/18 [==============================] - 0s 4ms/step - loss: 0.1857 - accuracy: 0.9304 - val_loss: 0.2752 - val_accuracy: 0.9357\n",
      "Epoch 66/100\n",
      "18/18 [==============================] - 0s 4ms/step - loss: 0.2007 - accuracy: 0.9250 - val_loss: 0.2724 - val_accuracy: 0.9357\n",
      "Epoch 67/100\n",
      "18/18 [==============================] - 0s 4ms/step - loss: 0.2092 - accuracy: 0.9089 - val_loss: 0.2699 - val_accuracy: 0.9429\n",
      "Epoch 68/100\n",
      "18/18 [==============================] - 0s 4ms/step - loss: 0.2148 - accuracy: 0.9232 - val_loss: 0.2695 - val_accuracy: 0.9429\n",
      "Epoch 69/100\n",
      "18/18 [==============================] - 0s 4ms/step - loss: 0.1874 - accuracy: 0.9268 - val_loss: 0.2733 - val_accuracy: 0.9500\n",
      "Epoch 70/100\n",
      "18/18 [==============================] - 0s 4ms/step - loss: 0.1873 - accuracy: 0.9304 - val_loss: 0.2724 - val_accuracy: 0.9500\n",
      "Epoch 71/100\n",
      "18/18 [==============================] - 0s 4ms/step - loss: 0.1780 - accuracy: 0.9304 - val_loss: 0.2736 - val_accuracy: 0.9500\n",
      "Epoch 72/100\n",
      "18/18 [==============================] - 0s 4ms/step - loss: 0.2119 - accuracy: 0.9089 - val_loss: 0.2694 - val_accuracy: 0.9429\n",
      "Epoch 73/100\n",
      "18/18 [==============================] - 0s 4ms/step - loss: 0.1769 - accuracy: 0.9482 - val_loss: 0.2646 - val_accuracy: 0.9429\n",
      "Epoch 74/100\n",
      "18/18 [==============================] - 0s 4ms/step - loss: 0.1756 - accuracy: 0.9357 - val_loss: 0.2697 - val_accuracy: 0.9429\n",
      "Epoch 75/100\n",
      "18/18 [==============================] - 0s 4ms/step - loss: 0.1775 - accuracy: 0.9375 - val_loss: 0.2747 - val_accuracy: 0.9429\n",
      "Epoch 76/100\n",
      "18/18 [==============================] - 0s 4ms/step - loss: 0.1876 - accuracy: 0.9304 - val_loss: 0.2735 - val_accuracy: 0.9500\n",
      "Epoch 77/100\n",
      "18/18 [==============================] - 0s 4ms/step - loss: 0.1464 - accuracy: 0.9375 - val_loss: 0.2800 - val_accuracy: 0.9429\n",
      "Epoch 78/100\n",
      "18/18 [==============================] - 0s 4ms/step - loss: 0.1584 - accuracy: 0.9464 - val_loss: 0.2861 - val_accuracy: 0.9500\n",
      "Epoch 79/100\n",
      "18/18 [==============================] - 0s 4ms/step - loss: 0.2040 - accuracy: 0.9268 - val_loss: 0.2772 - val_accuracy: 0.9429\n",
      "Epoch 80/100\n",
      "18/18 [==============================] - 0s 4ms/step - loss: 0.1825 - accuracy: 0.9196 - val_loss: 0.2674 - val_accuracy: 0.9500\n",
      "Epoch 81/100\n",
      "18/18 [==============================] - 0s 4ms/step - loss: 0.1800 - accuracy: 0.9304 - val_loss: 0.2708 - val_accuracy: 0.9429\n",
      "Epoch 82/100\n",
      "18/18 [==============================] - 0s 4ms/step - loss: 0.1626 - accuracy: 0.9393 - val_loss: 0.2765 - val_accuracy: 0.9571\n",
      "Epoch 83/100\n",
      "18/18 [==============================] - 0s 5ms/step - loss: 0.1572 - accuracy: 0.9411 - val_loss: 0.2705 - val_accuracy: 0.9500\n",
      "Epoch 84/100\n",
      "18/18 [==============================] - 0s 4ms/step - loss: 0.1676 - accuracy: 0.9411 - val_loss: 0.2714 - val_accuracy: 0.9500\n",
      "Epoch 85/100\n",
      "18/18 [==============================] - 0s 4ms/step - loss: 0.1781 - accuracy: 0.9339 - val_loss: 0.2642 - val_accuracy: 0.9500\n",
      "Epoch 86/100\n",
      "18/18 [==============================] - 0s 4ms/step - loss: 0.1781 - accuracy: 0.9339 - val_loss: 0.2781 - val_accuracy: 0.9571\n",
      "Epoch 87/100\n",
      "18/18 [==============================] - 0s 4ms/step - loss: 0.1435 - accuracy: 0.9393 - val_loss: 0.2899 - val_accuracy: 0.9429\n",
      "Epoch 88/100\n",
      "18/18 [==============================] - 0s 4ms/step - loss: 0.1515 - accuracy: 0.9536 - val_loss: 0.2901 - val_accuracy: 0.9429\n",
      "Epoch 89/100\n",
      "18/18 [==============================] - 0s 4ms/step - loss: 0.1620 - accuracy: 0.9446 - val_loss: 0.2856 - val_accuracy: 0.9429\n",
      "Epoch 90/100\n",
      "18/18 [==============================] - 0s 4ms/step - loss: 0.1619 - accuracy: 0.9429 - val_loss: 0.2917 - val_accuracy: 0.9429\n",
      "Epoch 91/100\n",
      "18/18 [==============================] - 0s 4ms/step - loss: 0.1485 - accuracy: 0.9429 - val_loss: 0.3024 - val_accuracy: 0.9429\n",
      "Epoch 92/100\n",
      "18/18 [==============================] - 0s 4ms/step - loss: 0.1245 - accuracy: 0.9607 - val_loss: 0.3093 - val_accuracy: 0.9500\n",
      "Epoch 93/100\n",
      "18/18 [==============================] - 0s 4ms/step - loss: 0.1433 - accuracy: 0.9518 - val_loss: 0.3232 - val_accuracy: 0.9571\n",
      "Epoch 94/100\n",
      "18/18 [==============================] - 0s 4ms/step - loss: 0.1394 - accuracy: 0.9446 - val_loss: 0.3407 - val_accuracy: 0.9500\n",
      "Epoch 95/100\n",
      "18/18 [==============================] - 0s 4ms/step - loss: 0.1463 - accuracy: 0.9429 - val_loss: 0.3278 - val_accuracy: 0.9500\n",
      "Epoch 96/100\n",
      "18/18 [==============================] - 0s 4ms/step - loss: 0.1328 - accuracy: 0.9429 - val_loss: 0.3181 - val_accuracy: 0.9500\n",
      "Epoch 97/100\n",
      "18/18 [==============================] - 0s 4ms/step - loss: 0.1534 - accuracy: 0.9500 - val_loss: 0.3136 - val_accuracy: 0.9500\n",
      "Epoch 98/100\n",
      "18/18 [==============================] - 0s 4ms/step - loss: 0.1421 - accuracy: 0.9393 - val_loss: 0.3189 - val_accuracy: 0.9429\n",
      "Epoch 99/100\n",
      "18/18 [==============================] - 0s 4ms/step - loss: 0.1365 - accuracy: 0.9554 - val_loss: 0.3400 - val_accuracy: 0.9429\n",
      "Epoch 100/100\n",
      "18/18 [==============================] - 0s 4ms/step - loss: 0.1599 - accuracy: 0.9464 - val_loss: 0.3359 - val_accuracy: 0.9429\n"
     ]
    }
   ],
   "source": [
    "hist = model.fit(xtrain, ytrain, validation_split=0.2, epochs=100)"
   ]
  },
  {
   "cell_type": "markdown",
   "id": "244b4732",
   "metadata": {},
   "source": [
    "## 8"
   ]
  },
  {
   "cell_type": "code",
   "execution_count": 15,
   "id": "733ac1d2",
   "metadata": {},
   "outputs": [
    {
     "data": {
      "image/png": "[encoded data removed]",
      "text/plain": [
       "<Figure size 1600x800 with 1 Axes>"
      ]
     },
     "metadata": {},
     "output_type": "display_data"
    }
   ],
   "source": [
    "import matplotlib.pyplot as plt\n",
    "plt.figure(figsize=(16,8))\n",
    "plt.plot(hist.history['loss'],label='Training Loss')\n",
    "plt.plot(hist.history['val_loss'], label='Validation Loss',alpha=0.7)\n",
    "plt.xlabel('Epochs')\n",
    "plt.ylabel('Binary Cross Entropy')\n",
    "plt.title('Learning Curve')\n",
    "plt.legend()\n",
    "plt.show()"
   ]
  },
  {
   "cell_type": "markdown",
   "id": "6df21a61",
   "metadata": {},
   "source": [
    "## 9"
   ]
  },
  {
   "cell_type": "code",
   "execution_count": 16,
   "id": "00395df4",
   "metadata": {},
   "outputs": [
    {
     "name": "stdout",
     "output_type": "stream",
     "text": [
      "22/22 [==============================] - 0s 1ms/step - loss: 0.1318 - accuracy: 0.9686\n"
     ]
    },
    {
     "data": {
      "text/plain": [
       "[0.1318109929561615, 0.9685714244842529]"
      ]
     },
     "execution_count": 16,
     "metadata": {},
     "output_type": "execute_result"
    }
   ],
   "source": [
    "model.evaluate(xtrain,ytrain)"
   ]
  },
  {
   "cell_type": "code",
   "execution_count": 17,
   "id": "3668cad4",
   "metadata": {},
   "outputs": [
    {
     "name": "stdout",
     "output_type": "stream",
     "text": [
      "22/22 [==============================] - 0s 1ms/step\n",
      "10/10 [==============================] - 0s 1ms/step\n"
     ]
    }
   ],
   "source": [
    "tr_pred = model.predict(xtrain)\n",
    "ts_pred = model.predict(xtest)"
   ]
  },
  {
   "cell_type": "code",
   "execution_count": 18,
   "id": "ba1a0462",
   "metadata": {},
   "outputs": [
    {
     "data": {
      "text/plain": [
       "array([[1.0000000e+00],\n",
       "       [8.2905831e-07],\n",
       "       [9.9995112e-01],\n",
       "       [1.4297577e-03],\n",
       "       [9.9999964e-01]], dtype=float32)"
      ]
     },
     "execution_count": 18,
     "metadata": {},
     "output_type": "execute_result"
    }
   ],
   "source": [
    "tr_pred[0:5]"
   ]
  },
  {
   "cell_type": "code",
   "execution_count": 19,
   "id": "0ac75562",
   "metadata": {},
   "outputs": [
    {
     "data": {
      "text/plain": [
       "array([[7.2945881e-04],\n",
       "       [9.9985474e-01],\n",
       "       [8.0321962e-03],\n",
       "       [3.6694544e-07],\n",
       "       [8.2803659e-02]], dtype=float32)"
      ]
     },
     "execution_count": 19,
     "metadata": {},
     "output_type": "execute_result"
    }
   ],
   "source": [
    "ts_pred[0:5]"
   ]
  },
  {
   "cell_type": "code",
   "execution_count": 27,
   "id": "bf0d4062",
   "metadata": {},
   "outputs": [],
   "source": [
    "threshold = 0.5\n",
    "tr_pred_class = []\n",
    "for i in tr_pred:\n",
    "    if i>=0.5:\n",
    "        tr_pred_class.append(1)\n",
    "    else:\n",
    "        tr_pred_class.append(0)"
   ]
  },
  {
   "cell_type": "code",
   "execution_count": 28,
   "id": "2f0df533",
   "metadata": {
    "scrolled": false
   },
   "outputs": [
    {
     "data": {
      "text/plain": [
       "[1, 0, 1, 0, 1]"
      ]
     },
     "execution_count": 28,
     "metadata": {},
     "output_type": "execute_result"
    }
   ],
   "source": [
    "tr_pred_class[0:5]"
   ]
  },
  {
   "cell_type": "code",
   "execution_count": 29,
   "id": "983cd397",
   "metadata": {},
   "outputs": [],
   "source": [
    "threshold = 0.5\n",
    "ts_pred_class = []\n",
    "for i in ts_pred:\n",
    "    if i>=0.5:\n",
    "        ts_pred_class.append(1)\n",
    "    else:\n",
    "        ts_pred_class.append(0)"
   ]
  },
  {
   "cell_type": "code",
   "execution_count": 30,
   "id": "1e1c3ae7",
   "metadata": {},
   "outputs": [
    {
     "data": {
      "text/plain": [
       "[0, 1, 0, 0, 0]"
      ]
     },
     "execution_count": 30,
     "metadata": {},
     "output_type": "execute_result"
    }
   ],
   "source": [
    "ts_pred_class[0:5]"
   ]
  },
  {
   "cell_type": "markdown",
   "id": "5618941f",
   "metadata": {},
   "source": [
    "## 10"
   ]
  },
  {
   "cell_type": "code",
   "execution_count": 35,
   "id": "1243848d",
   "metadata": {},
   "outputs": [
    {
     "data": {
      "text/plain": [
       "(0.9917988946336246, 0.9938306408779285)"
      ]
     },
     "execution_count": 35,
     "metadata": {},
     "output_type": "execute_result"
    }
   ],
   "source": [
    "from sklearn.metrics import roc_auc_score\n",
    "tr_acc = roc_auc_score(ytest,ts_pred)\n",
    "ts_acc = roc_auc_score(ytrain,tr_pred)\n",
    "tr_acc,ts_acc"
   ]
  },
  {
   "cell_type": "markdown",
   "id": "e2bcd54b",
   "metadata": {},
   "source": [
    "## 11"
   ]
  },
  {
   "cell_type": "code",
   "execution_count": 31,
   "id": "22fc2833",
   "metadata": {},
   "outputs": [
    {
     "data": {
      "text/plain": [
       "array([[154,   4],\n",
       "       [  7, 135]], dtype=int64)"
      ]
     },
     "execution_count": 31,
     "metadata": {},
     "output_type": "execute_result"
    }
   ],
   "source": [
    "from sklearn.metrics import confusion_matrix\n",
    "cf = confusion_matrix(ytest,ts_pred_class)\n",
    "cf"
   ]
  },
  {
   "cell_type": "markdown",
   "id": "66937a81",
   "metadata": {},
   "source": [
    "## 12"
   ]
  },
  {
   "cell_type": "code",
   "execution_count": 37,
   "id": "6a11e9ca",
   "metadata": {},
   "outputs": [
    {
     "data": {
      "text/plain": [
       "<AxesSubplot:>"
      ]
     },
     "execution_count": 37,
     "metadata": {},
     "output_type": "execute_result"
    },
    {
     "data": {
      "image/png": "[encoded data removed]",
      "text/plain": [
       "<Figure size 640x480 with 2 Axes>"
      ]
     },
     "metadata": {},
     "output_type": "display_data"
    }
   ],
   "source": [
    "import seaborn as sb\n",
    "sb.heatmap(cf,annot=True,fmt='d')"
   ]
  },
  {
   "cell_type": "markdown",
   "id": "781a2287",
   "metadata": {},
   "source": [
    "## 13"
   ]
  },
  {
   "cell_type": "code",
   "execution_count": 38,
   "id": "f78a6375",
   "metadata": {},
   "outputs": [
    {
     "name": "stdout",
     "output_type": "stream",
     "text": [
      "              precision    recall  f1-score   support\n",
      "\n",
      "           0       0.96      0.97      0.97       158\n",
      "           1       0.97      0.95      0.96       142\n",
      "\n",
      "    accuracy                           0.96       300\n",
      "   macro avg       0.96      0.96      0.96       300\n",
      "weighted avg       0.96      0.96      0.96       300\n",
      "\n"
     ]
    }
   ],
   "source": [
    "from sklearn.metrics import classification_report\n",
    "print(classification_report(ytest,ts_pred_class))"
   ]
  },
  {
   "cell_type": "code",
   "execution_count": null,
   "id": "d417cbf1",
   "metadata": {},
   "outputs": [],
   "source": []
  }
 ],
 "metadata": {
  "kernelspec": {
   "display_name": "Python 3 (ipykernel)",
   "language": "python",
   "name": "python3"
  },
  "language_info": {
   "codemirror_mode": {
    "name": "ipython",
    "version": 3
   },
   "file_extension": ".py",
   "mimetype": "text/x-python",
   "name": "python",
   "nbconvert_exporter": "python",
   "pygments_lexer": "ipython3",
   "version": "3.9.13"
  }
 },
 "nbformat": 4,
 "nbformat_minor": 5
}
